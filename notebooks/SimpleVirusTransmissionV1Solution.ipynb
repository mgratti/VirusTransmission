{
 "cells": [
  {
   "cell_type": "markdown",
   "metadata": {},
   "source": [
    "# Virus Transmission\n",
    "\n",
    "A notebook to study the evolution of an epidemic in a simplified context.\n",
    "\n",
    "Manual of the experiment: https://ap.phys.ethz.ch/Anleitungen/73APen.pdf\n",
    "\n",
    "For starters, import all needed libraries"
   ]
  },
  {
   "cell_type": "code",
   "execution_count": 1,
   "metadata": {},
   "outputs": [],
   "source": [
    "import random\n",
    "import matplotlib.pyplot as plt\n",
    "from matplotlib import colors\n",
    "import numpy as np\n",
    "from scipy.optimize import curve_fit\n",
    "rg = np.random.default_rng(1234)\n",
    "import tqdm"
   ]
  },
  {
   "cell_type": "markdown",
   "metadata": {},
   "source": [
    "## General Setting of the Problem\n",
    "Consider a squared country populated by NxN individuals in a grid.\n",
    "\n",
    "Day 0 marks the first day one person gets infected along the North border.\n",
    "\n",
    "The possible states of a person are:\n",
    " - uninfected\n",
    " - infected\n",
    " - recovered\n",
    " - dead\n",
    "\n",
    "Each day:\n",
    " - an infected individual could be infected in general by $k$ close contacts. The probability of infection after a close contact is $p_{Inf}$\n",
    " - an infected person could recover (with probability $p_{Reco}$), die (with probability $p_{Death}$), or stay infected (with probability $1-p_{Reco}-p_{Death}$)\n",
    " - an individual could move or not move; this will be speficied in each exercise.\n",
    " "
   ]
  },
  {
   "cell_type": "markdown",
   "metadata": {},
   "source": [
    "## Analytic part"
   ]
  },
  {
   "cell_type": "markdown",
   "metadata": {},
   "source": [
    "To get more context, you can check out the SIR model, e.g. [here](https://www.maa.org/press/periodicals/loci/joma/the-sir-model-for-spread-of-disease-the-differential-equation-model)\n",
    "\n",
    "Write and solve the differential equation for the total number of infected individuals as a function of time, $I(t)$ (neglect spatial distribution of infections). \n",
    "\n",
    "#### Case 1\n",
    "- free travel, each individual has on average a number of close contacts, $k$.\n",
    "- each close contact has a probability $p_{Inf}$ of generating a new infection \n",
    "- $p_{Reco}$=0\n",
    "- $p_{Death}$=0\n",
    "\n",
    "Think at the number of new infections $dI$ in the unit of time $dt$ based on the information you have, and on the boundary conditions."
   ]
  },
  {
   "cell_type": "markdown",
   "metadata": {},
   "source": [
    "Answer:\n",
    "\n",
    "$dI = I(t) \\times k \\times p_{Inf} \\times \\frac{U(t)}{N^2}$\n",
    "\n",
    "$I(0) = I_0$\n",
    "\n",
    "$U(t) + I(t) = N^2$"
   ]
  },
  {
   "cell_type": "markdown",
   "metadata": {},
   "source": [
    "Solution of the differential equation:\n",
    "\n",
    "$I(t) = N^2 \\frac{  \\frac{I_0}{N^2-I_0} e^{k p_{inf} t}  }{ 1 +  \\frac{I_0}{N^2-I_0} e^{k p_{inf} t}    } $"
   ]
  },
  {
   "cell_type": "markdown",
   "metadata": {},
   "source": [
    "#### Case 2\n",
    "- restricted travel, infections can only happen with the nearest neighbours (at most 4 NNs) (see picture)\n",
    "- each close contact has a probability $p_{Inf}$ of generating a new infection \n",
    "- $p_{Reco}$=0\n",
    "- $p_{Death}$=0\n",
    "\n",
    "Within this setting, what changes in the differential equation above? How the solutions compare in case 1 and 2?"
   ]
  },
  {
   "cell_type": "markdown",
   "metadata": {},
   "source": [
    "<img src=\"../images/illustration.png\" alt=\"Drawing\" style=\"width: 400px;\"/>"
   ]
  },
  {
   "cell_type": "markdown",
   "metadata": {},
   "source": [
    "Answer: \n",
    "\n",
    "The difference is that one does not have an unrestricted number of close contacts, but only at most 4. So $k<4$.\n",
    "\n",
    "It is hard to predict the exact value of $k$; it depends on the geometry of the cluster and on $p_{Inf}$\n",
    "\n",
    "What one can intuitively say is: $k(p_{inf}\\ll 1) > k(p_{Inf}\\simeq1)$"
   ]
  },
  {
   "cell_type": "markdown",
   "metadata": {},
   "source": [
    "#### Plot the solution!"
   ]
  },
  {
   "cell_type": "markdown",
   "metadata": {},
   "source": [
    "Define the function, with arguments:\n",
    " - time, t\n",
    " - number of individuals, $N^2$\n",
    " - number of initial infected, $I_0$ \n",
    " - average number of contacts per individual in a day, $k$\n",
    " - probability of infection, $p$"
   ]
  },
  {
   "cell_type": "code",
   "execution_count": 2,
   "metadata": {},
   "outputs": [],
   "source": [
    "def I(t=0.,N2=100.,I0=1.,k=10.,p=0.1):\n",
    "  if N2-I0<=0 or t<0: return -1\n",
    "  a = I0/(N2-I0) * np.exp(k*p*t)\n",
    "  return N2 * a / (1+a)"
   ]
  },
  {
   "cell_type": "markdown",
   "metadata": {},
   "source": [
    "Plot it in several cases, e.g. vary $k$"
   ]
  },
  {
   "cell_type": "code",
   "execution_count": 3,
   "metadata": {},
   "outputs": [
    {
     "data": {
      "image/png": "[encoded data removed]",
      "text/plain": [
       "<Figure size 360x360 with 1 Axes>"
      ]
     },
     "metadata": {
      "needs_background": "light"
     },
     "output_type": "display_data"
    }
   ],
   "source": [
    "times=np.arange(0,100,1)\n",
    "\n",
    "fig,ax = plt.subplots(1,1,figsize=(5, 5))\n",
    "\n",
    "ax.plot(times,np.array([I(t,N2=100,I0=1,k=4,p=0.1) for t in times]),   label='N$^2$=100,I0=1,k=4,p=0.1')\n",
    "ax.plot(times,np.array([I(t,N2=100,I0=1,k=2,p=0.1) for t in times]),   label='N$^2$=100,I0=1,k=2,p=0.1')\n",
    "ax.plot(times,np.array([I(t,N2=100,I0=1,k=2,p=0.05) for t in times]),  label='N$^2$=100,I0=1,k=2,p=0.05')\n",
    "\n",
    "\n",
    "ax.legend(loc='center right', frameon=True) \n",
    "plt.show()"
   ]
  },
  {
   "cell_type": "markdown",
   "metadata": {},
   "source": [
    "## Simulation part\n",
    "\n",
    "Here is the implementation of the classes to simulate the spread of an epidemic from country A to country B.\n",
    "\n",
    "Country A is modelled as a NxN grid of inidividuals, like described in the previous sections.\n",
    "\n",
    "Please also note the following specifications for the simulation:\n",
    "\n",
    "Position of individuals:\n",
    "- individuals can occupy discretised positions, organised in a grid of (width=N x height=N)\n",
    "- each position can only be occupied by one individual at the same time \n",
    "- every day each individual can move from its position only by a discrete distance, horizontally and/or vertically or can remain fixed; its condition is updated based on the nearest neighbours of the previous day.\n",
    "\n",
    "How to track the infection at the border of country B:\n",
    "- we track if the disease spreads to country B, by adding an additional row of individuals in country A and by counting the infections there."
   ]
  },
  {
   "cell_type": "markdown",
   "metadata": {},
   "source": [
    "### Global definitions"
   ]
  },
  {
   "cell_type": "code",
   "execution_count": 4,
   "metadata": {},
   "outputs": [],
   "source": [
    "'''\n",
    "Helper dictionary which creates a map between strings and integers for the possible available conditions\n",
    "'''\n",
    "CondDict = {}\n",
    "CondDict['uninfected'] = 0\n",
    "CondDict['infected'] = 1\n",
    "CondDict['recovered'] = 2\n",
    "CondDict['dead'] = 3\n",
    "CondDict[0] = 'uninfected'\n",
    "CondDict[1] = 'infected'\n",
    "CondDict[2] = 'recovered'\n",
    "CondDict[3] = 'dead'"
   ]
  },
  {
   "cell_type": "markdown",
   "metadata": {},
   "source": [
    "### Classes definitions"
   ]
  },
  {
   "cell_type": "markdown",
   "metadata": {},
   "source": [
    "#### Disease "
   ]
  },
  {
   "cell_type": "code",
   "execution_count": 5,
   "metadata": {},
   "outputs": [],
   "source": [
    "class Disease(object):\n",
    "  '''\n",
    "  The disease, as characterised by the probabilities _pInfection, _pRecovery, _pDeath.\n",
    "  \n",
    "  Arguments for initialisation:\n",
    "  _pInfection:    probability of getting infected \n",
    "  _pRecovery:     probability of recovery, if alrady infected \n",
    "  _pDeath:        probability of dying, if already infected\n",
    "\n",
    "  '''\n",
    "  def __init__(self,pInfection,pRecovery,pDeath):  \n",
    "    self._pInfection=pInfection\n",
    "    self._pRecovery=pRecovery\n",
    "    self._pDeath=pDeath\n",
    "\n",
    "    if self._pDeath + self._pRecovery >= 1: \n",
    "      raise RuntimeError('self._pDeath + self._pRecovery should be < 1')\n",
    "    if self._pInfection > 1:\n",
    "      raise RuntimeError('self._pInfection should be <= 1')"
   ]
  },
  {
   "cell_type": "markdown",
   "metadata": {},
   "source": [
    "#### Individual"
   ]
  },
  {
   "cell_type": "code",
   "execution_count": 6,
   "metadata": {},
   "outputs": [],
   "source": [
    "class Individual(object):\n",
    "  '''\n",
    "  Tracks an individual through time\n",
    "  The state of an individual consists of:\n",
    "   - position at a given time \n",
    "   - condition at a given time\n",
    "  '''  \n",
    "\n",
    "  def __init__(self):\n",
    "    self._positions = []\n",
    "    self._conditions = []\n",
    "    self._times = []\n",
    "\n",
    "\n",
    "  def setState(self, time=0, pos=(0,0), condition='uninfected'):\n",
    "    '''\n",
    "    Sets the state of the individual at time t \n",
    "    '''\n",
    "    self._times.append(time)\n",
    "    self._conditions.append(condition)\n",
    "    self._positions.append(pos)\n",
    "\n",
    "  def updatePosition(self, time=0, pos=(0,0)):\n",
    "    '''\n",
    "    Updates postition of an existing state \n",
    "    '''       \n",
    "    try:\n",
    "      idxTime = self._times.index(time)\n",
    "      self._positions[idxTime] = pos\n",
    "    except: \n",
    "      print('Requested update of position not possible')\n",
    "\n",
    "  def updateCondition(self, time=0, condition='infected'):\n",
    "    '''\n",
    "    Updates condition of an existing state \n",
    "    '''       \n",
    "    try:\n",
    "      idxTime = self._times.index(time)\n",
    "      self._conditions[idxTime] = condition\n",
    "    except: \n",
    "      print('Requested update of condition not possible')    \n",
    "     \n",
    "  def getPosition(self,time=0):\n",
    "    '''\n",
    "    Returns position of existing state\n",
    "    '''    \n",
    "    try:\n",
    "      idxTime = self._times.index(time)\n",
    "      return self._positions[idxTime]\n",
    "    except: \n",
    "      print('Requested state does not exist') \n",
    "    \n",
    "  def getCondition(self,time=0):\n",
    "    '''\n",
    "    Returns condition of existing state\n",
    "    '''\n",
    "    try:\n",
    "      idxTime = self._times.index(time)\n",
    "      return self._conditions[idxTime]\n",
    "    except: \n",
    "      print('Requested state does not exist')\n",
    "    "
   ]
  },
  {
   "cell_type": "markdown",
   "metadata": {},
   "source": [
    "#### Nation"
   ]
  },
  {
   "cell_type": "code",
   "execution_count": 7,
   "metadata": {},
   "outputs": [],
   "source": [
    "class Nation(object):\n",
    "  '''\n",
    "  Individuals are organised in a nation. This class describes the spread of a disease in a simplified model:\n",
    "   - individuals can occupy discretised positions, organised in a grid of (width x height)\n",
    "   - each position can only be occupied by one individual at the same time \n",
    "   - each individual can move from its position only by a discrete distance, horizontally and/or vertically\n",
    "   - initial infection happens on day 0, at the north border and spreads to the nearest neighbours of an infected individual every day\n",
    "   \n",
    "  Arguments for initialisation:\n",
    "    _width : (int) width of the nation\n",
    "    _height: (int) height of the nation\n",
    "            N.B.: a nation of height+1 will be created to track the infections in the bordering country\n",
    "    _I0:     (float) initial number of infected individuals\n",
    "    _maxTravelDistance: (int) the number of squares that each individual can move on a given day\n",
    "  '''\n",
    "\n",
    "  def __init__(self, width=10, height=10, I0=1, maxTravelDistance=0):\n",
    "    \n",
    "    if not isinstance(width, int) or not isinstance(height, int) or not isinstance(maxTravelDistance, int) or not isinstance(I0, int)\\\n",
    "    or width<=0 or height<=0 or maxTravelDistance < 0 or I0<=0:\n",
    "      raise RuntimeError('Width, height, I0 have to be positive integers; maxTravelDistance must be non-negative')\n",
    "\n",
    "    self._width = width\n",
    "    self._height = height\n",
    "    self._maxTravelDistance = maxTravelDistance\n",
    "    self._I0 = I0\n",
    "\n",
    "    self._N2 = width * height\n",
    "    if self._I0 > self._width: raise RuntimeError('Initial number of infected individuals cannot exceed number of individuals at the border. Please lower I0')\n",
    "\n",
    "    self._individuals = [] \n",
    "    self._currentTime = 0\n",
    " \n",
    "  def createIndividuals(self):\n",
    "    '''\n",
    "    Creates instances of individuals, one per point in the width x (height+1) grid\n",
    "    As a trick to track the infections to the bordering country, individuals are created also at height+1\n",
    "    '''\n",
    "    for x in range(self._width):\n",
    "      column = []\n",
    "      for y in range(self._height+1): \n",
    "        ind = Individual()\n",
    "        ind.setState(time=0,pos=(x,y),condition='uninfected')\n",
    "        column.append(ind)\n",
    "      self._individuals.append(column)\n",
    "\n",
    "  def setInitialInfected(self):\n",
    "    '''\n",
    "    Randomly samples a fraction of infected individuals from the border\n",
    "    and updates their condition\n",
    "    '''\n",
    "    xInfected = random.sample(range(self._width), self._I0)\n",
    "    for x in range(self._width):\n",
    "      ind = self._individuals[x][0]\n",
    "      if x in xInfected:\n",
    "        ind.updateCondition(time=0,condition='infected')\n",
    "  \n",
    "  def setDisease(self,pInfection=0.10,pRecovery=0.2,pDeath=0.01):\n",
    "    '''\n",
    "    Creates the disease based on the specified parameters\n",
    "    '''\n",
    "    self._disease = Disease(pInfection,pRecovery,pDeath)    \n",
    "\n",
    "  def getIndividualNNs(self,ind,time):\n",
    "    '''\n",
    "    Returns a list of the existing nearest neighbours (one position away horizontally OR vertically)\n",
    "    '''\n",
    "    (x,y)=ind.getPosition(time)\n",
    "    allNNpositions = [(x,y+1),(x,y-1),(x+1,y),(x-1,y)]\n",
    "    \n",
    "    goodNNs = []\n",
    "    for (xNN,yNN) in allNNpositions:\n",
    "      if xNN >= 0 and xNN < self._width and yNN >= 0 and yNN < self._height+1:\n",
    "        goodNNs.append(self._individuals[xNN][yNN])\n",
    "    return goodNNs\n",
    "            \n",
    "  def evolveOneStep(self):\n",
    "    '''\n",
    "    Produces the evolution of one day:\n",
    "    - creates the states of each individual at the new time\n",
    "    - updates their condition based on the NNs of the previous day \n",
    "    - updates their position, if applicable\n",
    "    '''\n",
    "    \n",
    "    self._currentTime += 1\n",
    "\n",
    "    # keeps track of occupied positions at time t\n",
    "    busyPositionsMap = []\n",
    "    allPositionsMap = [(x,y) for x in range(self._width) for y in range(self._height+1)]\n",
    "\n",
    "    for x in range(self._width):\n",
    "      for y in range(self._height+1):\n",
    "        \n",
    "        ind = self._individuals[x][y]\n",
    "\n",
    "        # Create state at new time, old position, old condition\n",
    "        ind.setState(time=self._currentTime,\n",
    "                     pos=ind.getPosition(time=self._currentTime-1),\n",
    "                     condition=ind.getCondition(time=self._currentTime-1))\n",
    "\n",
    "        # Update the condition ?\n",
    "        if ind.getCondition(time=self._currentTime-1) == 'infected': \n",
    "          # Did you recover/die or stay infected? draw a sample from a multinomial distribution\n",
    "          # it's like throwing a dice with three faces and each face has a different weight\n",
    "          isRecovered,isDead,isStillInfected = rg.multinomial(1, [self._disease._pRecovery,self._disease._pDeath,1-self._disease._pRecovery-self._disease._pDeath], size=1).reshape(-1)\n",
    "          if isRecovered==1:\n",
    "            ind.updateCondition(time=self._currentTime, condition='recovered')\n",
    "          elif isStillInfected==1:\n",
    "            pass # do nothing \n",
    "          else:\n",
    "            ind.updateCondition(time=self._currentTime, condition='dead')\n",
    "        \n",
    "        elif ind.getCondition(time=self._currentTime-1) == 'uninfected':\n",
    "          # try to get infected, based on the NN of the previous day\n",
    "          NNs = self.getIndividualNNs(ind=ind,time=self._currentTime-1)\n",
    "          for NN in NNs:\n",
    "            if NN.getCondition(time=self._currentTime-1) == 'infected':\n",
    "              if rg.random() < self._disease._pInfection:\n",
    "                ind.updateCondition(time=self._currentTime, condition='infected') \n",
    "                break # no need to be infected twice\n",
    "        else: \n",
    "          pass # if recovered or died, there's nothing to update\n",
    "        \n",
    "        # Update the position if individual can move\n",
    "        if self._maxTravelDistance > 0:\n",
    "          if ind.getCondition(time=self._currentTime-1) != 'dead':\n",
    "            # get old position and create a new candidate position, \n",
    "            oldx,oldy = ind.getPosition(time=self._currentTime-1)\n",
    "            travelDistance = rg.integers(1,self._maxTravelDistance,endpoint=True)\n",
    "            dx = rg.integers(1,travelDistance,endpoint=True)\n",
    "            newx = oldx + dx                    * ( 1 if rg.random() < 0.5 else -1 )\n",
    "            newy = oldy + (travelDistance - dx) * ( 1 if rg.random() < 0.5 else -1 )\n",
    "\n",
    "            # accept new pos if not occupied by other individual, and within boundaries\n",
    "            if newx > 0 and newx < self._width and newy > 0 and newy < self._height+1 \\\n",
    "            and (newx,newy) not in busyPositionsMap:\n",
    "              ind.updatePosition(time=self._currentTime,pos=(newx,newy))\n",
    "\n",
    "            # else get available positions and pick the nearest to old pos\n",
    "            else: \n",
    "              availablePositionMap = list( set(allPositionsMap) - set(busyPositionsMap) )\n",
    "              newx,newy=99999,99999\n",
    "              for ax,ay in availablePositionMap:\n",
    "                if (oldx-ax)**2+(oldy-ay)**2 < (oldx-newx)**2+(oldy-newy)**2:\n",
    "                  newx = ax\n",
    "                  newy = ay\n",
    "              ind.updatePosition(time=self._currentTime,pos=(newx,newy))\n",
    "\n",
    "            # keep track of the used positions\n",
    "            busyPositionsMap.append((newx,newy))\n",
    "          else:\n",
    "            busyPositionsMap.append(ind.getPosition(time=self._currentTime-1))\n",
    "          \n",
    "  def evolve(self,nDays=1):\n",
    "    '''\n",
    "    Produces the evolution of a number of days, specified by ndays\n",
    "    '''\n",
    "    for step in range(nDays):\n",
    "      self.evolveOneStep()\n",
    "            \n",
    "  def getConditionsAtTime(self,time=0):\n",
    "    '''\n",
    "    Returns a 2D np.array with numerical information on the conditions of the individuals at time t,\n",
    "    including bordering country\n",
    "    '''\n",
    "    data = np.ones((self._width,self._height+1), dtype=int)*99\n",
    "    for x in range(self._width):\n",
    "      for y in range(self._height+1):\n",
    "        cond = self._individuals[x][y].getCondition(time=time)\n",
    "        posX,posY = self._individuals[x][y].getPosition(time=time)\n",
    "        data[posX,posY] = CondDict[cond]\n",
    "    return data\n",
    "  \n",
    "  def getNwithConditionAtTime(self,time=0, cond='infected'):\n",
    "    '''\n",
    "    Returns the number of infected people at time t, inside the nation\n",
    "    '''\n",
    "    dataAll = self.getConditionsAtTime(time=time)\n",
    "    dataNation = dataAll[:,:-1] # all, but last column\n",
    "    numCond = CondDict[cond]\n",
    "    return (dataNation == numCond).sum()\n",
    "  \n",
    "  def getBorderNwithConditionAtTime(self,time=0, cond='infected'):\n",
    "    '''\n",
    "    Returns the number of infected people at time t, in the border of the neighbouring country\n",
    "    '''\n",
    "    dataAll = self.getConditionsAtTime(time=time)\n",
    "    dataBorder = dataAll[:,-1] # only last column\n",
    "    numCond = CondDict[cond]\n",
    "    return (dataBorder == numCond).sum()\n",
    "\n",
    "  def plotAtTimes(self, times=[0,1]):\n",
    "    '''\n",
    "    Plots snapshots of the nation AND the border of the neighbouring country at specified times \n",
    "    '''\n",
    "    fig, axes = plt.subplots(1, len(times), figsize=(5*len(times), 5))\n",
    "    # create discrete colormap\n",
    "    cmap = colors.ListedColormap(['white', 'red', 'green', 'black'])\n",
    "    bounds = [-0.5,0.5,1.5,2.5,3.5]\n",
    "    norm = colors.BoundaryNorm(bounds, cmap.N)\n",
    "    \n",
    "    for i,time in enumerate(times):\n",
    "      data = self.getConditionsAtTime(time)\n",
    "\n",
    "      axes[i].imshow(data.T, cmap=cmap, norm=norm)\n",
    "\n",
    "      # draw gridlines\n",
    "      axes[i].grid(which='major', axis='both', linestyle='-', color='k', linewidth=1)\n",
    "      axes[i].set_xticks(np.arange(-0.5, self._width-0.5, 1));\n",
    "      axes[i].set_yticks(np.arange(-0.5, self._height+0.5, 1));\n",
    "    \n",
    "    plt.show()\n",
    "        \n",
    "  def plotInfectedEvolution(self,doRet=False,doFrac=True,doShow=True):\n",
    "    '''\n",
    "    Plots the fraction/number of infected,reco,dead,uninfected people as a function of time, until current time.\n",
    "    Optionally returns the times as a np.array() and the fraction/number of *infected* people at each time as a np.array() with the same shape \n",
    "    \n",
    "    Arguments:\n",
    "      doRet  : if True, will return the times and the fractions/numbers\n",
    "      doFrac : if True, will plot and return the fraction of individuals wrt total, else the absolute numbers\n",
    "      doShow : if True, will perform the plotting, else not\n",
    "    '''\n",
    "    times = np.arange(0,self._currentTime+1)\n",
    "    Infected   = np.array([self.getNwithConditionAtTime(time,cond='infected')   for time in times])\n",
    "    Recovered  = np.array([self.getNwithConditionAtTime(time,cond='recovered')  for time in times])\n",
    "    Dead       = np.array([self.getNwithConditionAtTime(time,cond='dead')       for time in times])\n",
    "    Uninfected = np.array([self.getNwithConditionAtTime(time,cond='uninfected') for time in times])\n",
    "    \n",
    "    Infected_B   = np.array([self.getBorderNwithConditionAtTime(time,cond='infected')   for time in times])\n",
    "    Recovered_B  = np.array([self.getBorderNwithConditionAtTime(time,cond='recovered')  for time in times])\n",
    "    Dead_B       = np.array([self.getBorderNwithConditionAtTime(time,cond='dead')       for time in times])\n",
    "    Uninfected_B = np.array([self.getBorderNwithConditionAtTime(time,cond='uninfected') for time in times])\n",
    "    \n",
    "    #Total = Infected + Recovered + Dead + Uninfected + Infected_B + Recovered_B + Dead_B + Uninfected_B\n",
    "    \n",
    "    \n",
    "    if doFrac:\n",
    "      Infected   = Infected   / float(self._N2)\n",
    "      Recovered  = Recovered  / float(self._N2)\n",
    "      Dead       = Dead       / float(self._N2)\n",
    "      Uninfected = Uninfected / float(self._N2)\n",
    "      #Total      = Total      / float(self._N2)\n",
    "      \n",
    "    if doShow:\n",
    "      fig, ax = plt.subplots(1, 1, figsize=(5, 5))\n",
    "      ax.plot(times,Infected, 'red', label='infected')\n",
    "      ax.plot(times,Recovered, 'green', label='recovered')\n",
    "      ax.plot(times,Dead, 'black', label='dead')\n",
    "      ax.plot(times,Uninfected, 'gray', label='uninfected')\n",
    "      #ax.plot(times,Total, 'blue', label='total')\n",
    "      \n",
    "      ax.legend(loc='upper right', frameon=True) \n",
    "\n",
    "      ax.set_xlabel('time (days)')\n",
    "      if doFrac:\n",
    "        ax.set_ylabel('Fraction of individuals')\n",
    "      else:\n",
    "        ax.set_ylabel('Number of individuals')\n",
    "    \n",
    "      plt.show()\n",
    "    \n",
    "    if doRet: \n",
    "      return Infected,times\n"
   ]
  },
  {
   "cell_type": "markdown",
   "metadata": {},
   "source": [
    "#### Exercise 0\n",
    "Let us assume width=10 x height=5 individuals over the span of 100 days and get our simulation running, using some initial parameters. \n",
    "\n",
    "Check the sanity of the algorithm, observing snapshots of the epidemic at different times in the case where  pInfection=1, pRecovery=0, pDeath=0.\n",
    "\n",
    "Then play around with the parameters to see how the epidemic unrolls in different cases"
   ]
  },
  {
   "cell_type": "code",
   "execution_count": 8,
   "metadata": {},
   "outputs": [],
   "source": [
    "nDays = 100\n",
    "\n",
    "nation = Nation(width=10, height=10, I0=1, maxTravelDistance=0)\n",
    "nation.createIndividuals()\n",
    "nation.setInitialInfected()\n",
    "nation.setDisease(pInfection=0.60,pRecovery=0.30,pDeath=0.10)\n",
    "nation.evolve(nDays)"
   ]
  },
  {
   "cell_type": "markdown",
   "metadata": {},
   "source": [
    "Visualize consecutive snapshots of the epidemic: this is useful to understand that the algorithm is working as expected.\n",
    "How many rows and columns are present in the plot? "
   ]
  },
  {
   "cell_type": "code",
   "execution_count": 9,
   "metadata": {},
   "outputs": [
    {
     "data": {
      "image/png": "[encoded data removed]",
      "text/plain": [
       "<Figure size 3600x360 with 10 Axes>"
      ]
     },
     "metadata": {
      "needs_background": "light"
     },
     "output_type": "display_data"
    }
   ],
   "source": [
    "nation.plotAtTimes(times=np.arange(0,10,1))"
   ]
  },
  {
   "cell_type": "markdown",
   "metadata": {},
   "source": [
    "Visualize snapshots of the epidemic at various stages of the epidemics, e.g. every 10 days"
   ]
  },
  {
   "cell_type": "code",
   "execution_count": 10,
   "metadata": {},
   "outputs": [
    {
     "data": {
      "image/png": "[encoded data removed]",
      "text/plain": [
       "<Figure size 3600x360 with 10 Axes>"
      ]
     },
     "metadata": {
      "needs_background": "light"
     },
     "output_type": "display_data"
    }
   ],
   "source": [
    "nation.plotAtTimes(times=np.arange(0,nDays,10))"
   ]
  },
  {
   "cell_type": "markdown",
   "metadata": {},
   "source": [
    "Visualize the evolution of the fraction of infected, recovered, dead and uninfected individuals over time"
   ]
  },
  {
   "cell_type": "code",
   "execution_count": 11,
   "metadata": {},
   "outputs": [
    {
     "data": {
      "image/png": "[encoded data removed]",
      "text/plain": [
       "<Figure size 360x360 with 1 Axes>"
      ]
     },
     "metadata": {
      "needs_background": "light"
     },
     "output_type": "display_data"
    }
   ],
   "source": [
    "Infected,times = nation.plotInfectedEvolution(doFrac=False,doRet=True,doShow=True)"
   ]
  },
  {
   "cell_type": "markdown",
   "metadata": {},
   "source": [
    "Print out the returned arrays and their shapes"
   ]
  },
  {
   "cell_type": "code",
   "execution_count": 12,
   "metadata": {},
   "outputs": [
    {
     "name": "stdout",
     "output_type": "stream",
     "text": [
      "[ 1  1  3  1  2  3  4  5  9 14 15 16 18 21 28 25 21 18 11  7  5  4  1  0\n",
      "  0  0  0  0  0  0  0  0  0  0  0  0  0  0  0  0  0  0  0  0  0  0  0  0\n",
      "  0  0  0  0  0  0  0  0  0  0  0  0  0  0  0  0  0  0  0  0  0  0  0  0\n",
      "  0  0  0  0  0  0  0  0  0  0  0  0  0  0  0  0  0  0  0  0  0  0  0  0\n",
      "  0  0  0  0  0]\n",
      "(101,)\n",
      "[  0   1   2   3   4   5   6   7   8   9  10  11  12  13  14  15  16  17\n",
      "  18  19  20  21  22  23  24  25  26  27  28  29  30  31  32  33  34  35\n",
      "  36  37  38  39  40  41  42  43  44  45  46  47  48  49  50  51  52  53\n",
      "  54  55  56  57  58  59  60  61  62  63  64  65  66  67  68  69  70  71\n",
      "  72  73  74  75  76  77  78  79  80  81  82  83  84  85  86  87  88  89\n",
      "  90  91  92  93  94  95  96  97  98  99 100]\n",
      "(101,)\n"
     ]
    }
   ],
   "source": [
    "print(Infected)\n",
    "print(Infected.shape)\n",
    "print(times)\n",
    "print(times.shape)"
   ]
  },
  {
   "cell_type": "markdown",
   "metadata": {},
   "source": [
    "Print the number of individuals that were infected at times 0,10,20,..,100:\n",
    " - in nation A\n",
    " - at the border of nation B"
   ]
  },
  {
   "cell_type": "code",
   "execution_count": 13,
   "metadata": {},
   "outputs": [
    {
     "name": "stdout",
     "output_type": "stream",
     "text": [
      "[ 1. 15.  5.  0.  0.  0.  0.  0.  0.  0.]\n",
      "[0. 0. 3. 0. 0. 0. 0. 0. 0. 0.]\n"
     ]
    }
   ],
   "source": [
    "times = np.arange(0,nDays,10)\n",
    "nInfectedAatTime = np.ones(times.shape)*999\n",
    "nInfectedBorderBatTime = np.ones(times.shape)*999\n",
    "\n",
    "for it,time in enumerate(times):\n",
    "  nInfectedAatTime[it] = nation.getNwithConditionAtTime(time=time,cond='infected')\n",
    "  nInfectedBorderBatTime[it] = nation.getBorderNwithConditionAtTime(time=time,cond='infected')\n",
    "  #print(time,nInfectedAatTime[it],nInfectedBorderBatTime[it])\n",
    "\n",
    "print(nInfectedAatTime)\n",
    "print(nInfectedBorderBatTime)"
   ]
  },
  {
   "cell_type": "markdown",
   "metadata": {},
   "source": [
    "#### Exercise 1: Transmission to country B\n",
    "Let us do the following assumptions: 10x10 individuals over the span of 100 days, no mobility, only NN infection, one initial infected person on day 0. In addition, fix the values: $p_{reco}=0.3$, $p_{death}=0.01$. \n",
    "\n",
    "Find the threshold probability of infection p* such that the virus will be transmitted to the bordering country only ~ 5% of the times.\n",
    "\n",
    "1) Play around with different values of `pInfection`, to get a feeling of the range of values that could prevent the disease from spreading.\n",
    "\n",
    "2) Decide on a set of 5 values to scan, then run ~50 simulations for each value and determine the fraction of simulations where there is at least one infection at the border of the neighbouring country. \n",
    "\n",
    "3) Redo the scan with more simulations (500), to get a more precise estimate (mind that you're after a 5% effect).\n",
    "\n",
    "4) Plot this fraction for the different values of `pInfection` and fit it to a polynomial (you can use [scipy.optimize.curve_fit](https://docs.scipy.org/doc/scipy/reference/generated/scipy.optimize.curve_fit.html))\n",
    "\n",
    "5) Estimate p* "
   ]
  },
  {
   "cell_type": "code",
   "execution_count": 14,
   "metadata": {},
   "outputs": [],
   "source": [
    "def getFractionForPInfScan(pInfectionScan = np.array([0.05, 0.10, 0.2, 0.3, 0.5]), nExps=10, width=10, height=10):\n",
    "\n",
    "  I0 = 1\n",
    "  pRecovery = 0.30\n",
    "  pDeath = 0.01\n",
    "\n",
    "  nDays = 100\n",
    "\n",
    "  timeFirstInfections = np.zeros((pInfectionScan.shape[0], nExps))\n",
    "  fractions = np.zeros((pInfectionScan.shape[0]))\n",
    "\n",
    "  for ip,p in enumerate(pInfectionScan):\n",
    "    print('ip={}, p={}'.format(ip,p))\n",
    "\n",
    "    for iExp in tqdm.tqdm((np.arange(nExps))):\n",
    "    \n",
    "      nation = Nation(width=width, height=height, I0=I0)\n",
    "      nation.createIndividuals()\n",
    "      nation.setInitialInfected()\n",
    "      nation.setDisease(pInfection=p,pRecovery=pRecovery,pDeath=pDeath)\n",
    "    \n",
    "      for iDay in np.arange(1,nDays+1):\n",
    "        nation.evolve(1)\n",
    "        if nation.getNwithConditionAtTime(time=iDay, cond='infected')==0: # break also if there are no more infected people\n",
    "          break\n",
    "        if nation.getBorderNwithConditionAtTime(time=iDay,cond='infected') > 0:\n",
    "          timeFirstInfections[ip,iExp] = iDay\n",
    "          #print('  time first infection = {}'.format(timeFirstInfections[ip,iexp]))\n",
    "          break\n",
    "\n",
    "    fractions[ip] = (timeFirstInfections[ip,:]>0).mean()\n",
    "  \n",
    "  return fractions"
   ]
  },
  {
   "cell_type": "code",
   "execution_count": 15,
   "metadata": {},
   "outputs": [
    {
     "name": "stdout",
     "output_type": "stream",
     "text": [
      "ip=0, p=0.0\n"
     ]
    },
    {
     "name": "stderr",
     "output_type": "stream",
     "text": [
      "100%|██████████| 100/100 [00:00<00:00, 338.01it/s]\n"
     ]
    },
    {
     "name": "stdout",
     "output_type": "stream",
     "text": [
      "ip=1, p=0.05\n"
     ]
    },
    {
     "name": "stderr",
     "output_type": "stream",
     "text": [
      "100%|██████████| 100/100 [00:00<00:00, 243.07it/s]\n"
     ]
    },
    {
     "name": "stdout",
     "output_type": "stream",
     "text": [
      "ip=2, p=0.1\n"
     ]
    },
    {
     "name": "stderr",
     "output_type": "stream",
     "text": [
      "100%|██████████| 100/100 [00:00<00:00, 162.55it/s]\n"
     ]
    },
    {
     "name": "stdout",
     "output_type": "stream",
     "text": [
      "ip=3, p=0.15\n"
     ]
    },
    {
     "name": "stderr",
     "output_type": "stream",
     "text": [
      "100%|██████████| 100/100 [00:01<00:00, 86.37it/s]\n"
     ]
    },
    {
     "name": "stdout",
     "output_type": "stream",
     "text": [
      "ip=4, p=0.2\n"
     ]
    },
    {
     "name": "stderr",
     "output_type": "stream",
     "text": [
      "100%|██████████| 100/100 [00:01<00:00, 59.94it/s]\n"
     ]
    },
    {
     "name": "stdout",
     "output_type": "stream",
     "text": [
      "ip=5, p=0.25\n"
     ]
    },
    {
     "name": "stderr",
     "output_type": "stream",
     "text": [
      "100%|██████████| 100/100 [00:02<00:00, 36.92it/s]\n"
     ]
    },
    {
     "name": "stdout",
     "output_type": "stream",
     "text": [
      "ip=6, p=0.3\n"
     ]
    },
    {
     "name": "stderr",
     "output_type": "stream",
     "text": [
      "100%|██████████| 100/100 [00:02<00:00, 33.91it/s]\n"
     ]
    },
    {
     "name": "stdout",
     "output_type": "stream",
     "text": [
      "ip=7, p=0.4\n"
     ]
    },
    {
     "name": "stderr",
     "output_type": "stream",
     "text": [
      "100%|██████████| 100/100 [00:02<00:00, 41.88it/s]\n"
     ]
    },
    {
     "name": "stdout",
     "output_type": "stream",
     "text": [
      "ip=8, p=0.5\n"
     ]
    },
    {
     "name": "stderr",
     "output_type": "stream",
     "text": [
      "100%|██████████| 100/100 [00:02<00:00, 48.59it/s]\n"
     ]
    },
    {
     "name": "stdout",
     "output_type": "stream",
     "text": [
      "ip=9, p=0.6\n"
     ]
    },
    {
     "name": "stderr",
     "output_type": "stream",
     "text": [
      "100%|██████████| 100/100 [00:01<00:00, 56.60it/s]\n"
     ]
    },
    {
     "name": "stdout",
     "output_type": "stream",
     "text": [
      "ip=10, p=0.7\n"
     ]
    },
    {
     "name": "stderr",
     "output_type": "stream",
     "text": [
      "100%|██████████| 100/100 [00:01<00:00, 61.76it/s]\n"
     ]
    },
    {
     "name": "stdout",
     "output_type": "stream",
     "text": [
      "ip=11, p=0.8\n"
     ]
    },
    {
     "name": "stderr",
     "output_type": "stream",
     "text": [
      "100%|██████████| 100/100 [00:01<00:00, 66.16it/s]\n"
     ]
    },
    {
     "name": "stdout",
     "output_type": "stream",
     "text": [
      "ip=12, p=0.9\n"
     ]
    },
    {
     "name": "stderr",
     "output_type": "stream",
     "text": [
      "100%|██████████| 100/100 [00:01<00:00, 74.70it/s]\n"
     ]
    },
    {
     "name": "stdout",
     "output_type": "stream",
     "text": [
      "ip=13, p=1.0\n"
     ]
    },
    {
     "name": "stderr",
     "output_type": "stream",
     "text": [
      "100%|██████████| 100/100 [00:01<00:00, 81.51it/s]\n"
     ]
    },
    {
     "data": {
      "text/plain": [
       "array([0.  , 0.  , 0.  , 0.01, 0.04, 0.27, 0.43, 0.74, 0.92, 0.96, 0.98,\n",
       "       1.  , 1.  , 1.  ])"
      ]
     },
     "execution_count": 15,
     "metadata": {},
     "output_type": "execute_result"
    }
   ],
   "source": [
    "pInfectionScan_N10_large = np.array([0., 0.05, 0.10, 0.15, 0.2, 0.25, 0.3, 0.4, 0.5, 0.6, 0.7, 0.8, 0.9, 1.0])\n",
    "fractions_N10_large = getFractionForPInfScan(pInfectionScan_N10_large, nExps=100, width=10, height=10)\n",
    "fractions_N10_large"
   ]
  },
  {
   "cell_type": "code",
   "execution_count": 16,
   "metadata": {},
   "outputs": [
    {
     "name": "stdout",
     "output_type": "stream",
     "text": [
      "ip=0, p=0.15\n"
     ]
    },
    {
     "name": "stderr",
     "output_type": "stream",
     "text": [
      "100%|██████████| 100/100 [00:01<00:00, 92.38it/s]\n"
     ]
    },
    {
     "name": "stdout",
     "output_type": "stream",
     "text": [
      "ip=1, p=0.16\n"
     ]
    },
    {
     "name": "stderr",
     "output_type": "stream",
     "text": [
      "100%|██████████| 100/100 [00:01<00:00, 83.26it/s]\n"
     ]
    },
    {
     "name": "stdout",
     "output_type": "stream",
     "text": [
      "ip=2, p=0.17\n"
     ]
    },
    {
     "name": "stderr",
     "output_type": "stream",
     "text": [
      "100%|██████████| 100/100 [00:01<00:00, 77.21it/s]\n"
     ]
    },
    {
     "name": "stdout",
     "output_type": "stream",
     "text": [
      "ip=3, p=0.18\n"
     ]
    },
    {
     "name": "stderr",
     "output_type": "stream",
     "text": [
      "100%|██████████| 100/100 [00:01<00:00, 77.40it/s]\n"
     ]
    },
    {
     "name": "stdout",
     "output_type": "stream",
     "text": [
      "ip=4, p=0.19\n"
     ]
    },
    {
     "name": "stderr",
     "output_type": "stream",
     "text": [
      "100%|██████████| 100/100 [00:01<00:00, 71.35it/s]\n"
     ]
    },
    {
     "name": "stdout",
     "output_type": "stream",
     "text": [
      "ip=5, p=0.2\n"
     ]
    },
    {
     "name": "stderr",
     "output_type": "stream",
     "text": [
      "100%|██████████| 100/100 [00:01<00:00, 52.81it/s]\n"
     ]
    },
    {
     "name": "stdout",
     "output_type": "stream",
     "text": [
      "ip=6, p=0.21\n"
     ]
    },
    {
     "name": "stderr",
     "output_type": "stream",
     "text": [
      "100%|██████████| 100/100 [00:02<00:00, 47.38it/s]\n"
     ]
    },
    {
     "name": "stdout",
     "output_type": "stream",
     "text": [
      "ip=7, p=0.22\n"
     ]
    },
    {
     "name": "stderr",
     "output_type": "stream",
     "text": [
      "100%|██████████| 100/100 [00:02<00:00, 42.41it/s]\n"
     ]
    },
    {
     "name": "stdout",
     "output_type": "stream",
     "text": [
      "ip=8, p=0.23\n"
     ]
    },
    {
     "name": "stderr",
     "output_type": "stream",
     "text": [
      "100%|██████████| 100/100 [00:02<00:00, 48.50it/s]\n"
     ]
    },
    {
     "name": "stdout",
     "output_type": "stream",
     "text": [
      "ip=9, p=0.25\n"
     ]
    },
    {
     "name": "stderr",
     "output_type": "stream",
     "text": [
      "100%|██████████| 100/100 [00:02<00:00, 38.40it/s]\n"
     ]
    },
    {
     "data": {
      "text/plain": [
       "array([0.  , 0.02, 0.01, 0.04, 0.08, 0.06, 0.07, 0.11, 0.09, 0.26])"
      ]
     },
     "execution_count": 16,
     "metadata": {},
     "output_type": "execute_result"
    }
   ],
   "source": [
    "pInfectionScan_N10_small = np.array([0.15, 0.16, 0.17, 0.18, 0.19, 0.2, 0.21, 0.22, 0.23, 0.25])\n",
    "fractions_N10_small = getFractionForPInfScan(pInfectionScan_N10_small, nExps=100, width=10, height=10)\n",
    "fractions_N10_small"
   ]
  },
  {
   "cell_type": "code",
   "execution_count": 17,
   "metadata": {},
   "outputs": [
    {
     "name": "stdout",
     "output_type": "stream",
     "text": [
      "ip=0, p=0.15\n"
     ]
    },
    {
     "name": "stderr",
     "output_type": "stream",
     "text": [
      "100%|██████████| 500/500 [00:05<00:00, 86.65it/s] \n"
     ]
    },
    {
     "name": "stdout",
     "output_type": "stream",
     "text": [
      "ip=1, p=0.16\n"
     ]
    },
    {
     "name": "stderr",
     "output_type": "stream",
     "text": [
      "100%|██████████| 500/500 [00:05<00:00, 92.26it/s] \n"
     ]
    },
    {
     "name": "stdout",
     "output_type": "stream",
     "text": [
      "ip=2, p=0.17\n"
     ]
    },
    {
     "name": "stderr",
     "output_type": "stream",
     "text": [
      "100%|██████████| 500/500 [00:07<00:00, 66.96it/s]\n"
     ]
    },
    {
     "name": "stdout",
     "output_type": "stream",
     "text": [
      "ip=3, p=0.18\n"
     ]
    },
    {
     "name": "stderr",
     "output_type": "stream",
     "text": [
      "100%|██████████| 500/500 [00:07<00:00, 66.71it/s]\n"
     ]
    },
    {
     "name": "stdout",
     "output_type": "stream",
     "text": [
      "ip=4, p=0.19\n"
     ]
    },
    {
     "name": "stderr",
     "output_type": "stream",
     "text": [
      "100%|██████████| 500/500 [00:09<00:00, 54.36it/s]\n"
     ]
    },
    {
     "name": "stdout",
     "output_type": "stream",
     "text": [
      "ip=5, p=0.2\n"
     ]
    },
    {
     "name": "stderr",
     "output_type": "stream",
     "text": [
      "100%|██████████| 500/500 [00:08<00:00, 56.16it/s] \n"
     ]
    },
    {
     "name": "stdout",
     "output_type": "stream",
     "text": [
      "ip=6, p=0.21\n"
     ]
    },
    {
     "name": "stderr",
     "output_type": "stream",
     "text": [
      "100%|██████████| 500/500 [00:10<00:00, 45.86it/s]\n"
     ]
    },
    {
     "name": "stdout",
     "output_type": "stream",
     "text": [
      "ip=7, p=0.22\n"
     ]
    },
    {
     "name": "stderr",
     "output_type": "stream",
     "text": [
      "100%|██████████| 500/500 [00:10<00:00, 45.99it/s]\n"
     ]
    },
    {
     "name": "stdout",
     "output_type": "stream",
     "text": [
      "ip=8, p=0.23\n"
     ]
    },
    {
     "name": "stderr",
     "output_type": "stream",
     "text": [
      "100%|██████████| 500/500 [00:10<00:00, 48.32it/s]\n"
     ]
    },
    {
     "name": "stdout",
     "output_type": "stream",
     "text": [
      "ip=9, p=0.25\n"
     ]
    },
    {
     "name": "stderr",
     "output_type": "stream",
     "text": [
      "100%|██████████| 500/500 [00:13<00:00, 38.20it/s]\n"
     ]
    },
    {
     "data": {
      "text/plain": [
       "array([0.01 , 0.004, 0.014, 0.032, 0.052, 0.054, 0.098, 0.114, 0.114,\n",
       "       0.236])"
      ]
     },
     "execution_count": 17,
     "metadata": {},
     "output_type": "execute_result"
    }
   ],
   "source": [
    "fractions_N10_1 = getFractionForPInfScan(pInfectionScan_N10_small, nExps=500, width=10, height=10)\n",
    "fractions_N10_1"
   ]
  },
  {
   "cell_type": "code",
   "execution_count": 18,
   "metadata": {},
   "outputs": [
    {
     "name": "stdout",
     "output_type": "stream",
     "text": [
      "ip=0, p=0.15\n"
     ]
    },
    {
     "name": "stderr",
     "output_type": "stream",
     "text": [
      "100%|██████████| 500/500 [00:05<00:00, 91.56it/s] \n"
     ]
    },
    {
     "name": "stdout",
     "output_type": "stream",
     "text": [
      "ip=1, p=0.16\n"
     ]
    },
    {
     "name": "stderr",
     "output_type": "stream",
     "text": [
      "100%|██████████| 500/500 [00:06<00:00, 71.76it/s] \n"
     ]
    },
    {
     "name": "stdout",
     "output_type": "stream",
     "text": [
      "ip=2, p=0.17\n"
     ]
    },
    {
     "name": "stderr",
     "output_type": "stream",
     "text": [
      "100%|██████████| 500/500 [00:06<00:00, 71.51it/s] \n"
     ]
    },
    {
     "name": "stdout",
     "output_type": "stream",
     "text": [
      "ip=3, p=0.18\n"
     ]
    },
    {
     "name": "stderr",
     "output_type": "stream",
     "text": [
      "100%|██████████| 500/500 [00:07<00:00, 69.42it/s] \n"
     ]
    },
    {
     "name": "stdout",
     "output_type": "stream",
     "text": [
      "ip=4, p=0.19\n"
     ]
    },
    {
     "name": "stderr",
     "output_type": "stream",
     "text": [
      "100%|██████████| 500/500 [00:08<00:00, 59.77it/s]\n"
     ]
    },
    {
     "name": "stdout",
     "output_type": "stream",
     "text": [
      "ip=5, p=0.2\n"
     ]
    },
    {
     "name": "stderr",
     "output_type": "stream",
     "text": [
      "100%|██████████| 500/500 [00:09<00:00, 55.18it/s]\n"
     ]
    },
    {
     "name": "stdout",
     "output_type": "stream",
     "text": [
      "ip=6, p=0.21\n"
     ]
    },
    {
     "name": "stderr",
     "output_type": "stream",
     "text": [
      "100%|██████████| 500/500 [00:09<00:00, 50.25it/s]\n"
     ]
    },
    {
     "name": "stdout",
     "output_type": "stream",
     "text": [
      "ip=7, p=0.22\n"
     ]
    },
    {
     "name": "stderr",
     "output_type": "stream",
     "text": [
      "100%|██████████| 500/500 [00:11<00:00, 43.02it/s]\n"
     ]
    },
    {
     "name": "stdout",
     "output_type": "stream",
     "text": [
      "ip=8, p=0.23\n"
     ]
    },
    {
     "name": "stderr",
     "output_type": "stream",
     "text": [
      "100%|██████████| 500/500 [00:11<00:00, 41.79it/s]\n"
     ]
    },
    {
     "name": "stdout",
     "output_type": "stream",
     "text": [
      "ip=9, p=0.25\n"
     ]
    },
    {
     "name": "stderr",
     "output_type": "stream",
     "text": [
      "100%|██████████| 500/500 [00:11<00:00, 41.68it/s]\n"
     ]
    },
    {
     "data": {
      "text/plain": [
       "array([0.004, 0.014, 0.012, 0.03 , 0.05 , 0.082, 0.068, 0.112, 0.136,\n",
       "       0.206])"
      ]
     },
     "execution_count": 18,
     "metadata": {},
     "output_type": "execute_result"
    }
   ],
   "source": [
    "fractions_N10_2 = getFractionForPInfScan(pInfectionScan_N10_small, nExps=500, width=10, height=10)\n",
    "fractions_N10_2"
   ]
  },
  {
   "cell_type": "code",
   "execution_count": 19,
   "metadata": {},
   "outputs": [
    {
     "name": "stdout",
     "output_type": "stream",
     "text": [
      "ip=0, p=0.15\n"
     ]
    },
    {
     "name": "stderr",
     "output_type": "stream",
     "text": [
      "100%|██████████| 500/500 [00:05<00:00, 94.68it/s] \n"
     ]
    },
    {
     "name": "stdout",
     "output_type": "stream",
     "text": [
      "ip=1, p=0.16\n"
     ]
    },
    {
     "name": "stderr",
     "output_type": "stream",
     "text": [
      "100%|██████████| 500/500 [00:06<00:00, 83.30it/s] \n"
     ]
    },
    {
     "name": "stdout",
     "output_type": "stream",
     "text": [
      "ip=2, p=0.17\n"
     ]
    },
    {
     "name": "stderr",
     "output_type": "stream",
     "text": [
      "100%|██████████| 500/500 [00:06<00:00, 81.71it/s] \n"
     ]
    },
    {
     "name": "stdout",
     "output_type": "stream",
     "text": [
      "ip=3, p=0.18\n"
     ]
    },
    {
     "name": "stderr",
     "output_type": "stream",
     "text": [
      "100%|██████████| 500/500 [00:06<00:00, 72.24it/s] \n"
     ]
    },
    {
     "name": "stdout",
     "output_type": "stream",
     "text": [
      "ip=4, p=0.19\n"
     ]
    },
    {
     "name": "stderr",
     "output_type": "stream",
     "text": [
      "100%|██████████| 500/500 [00:08<00:00, 57.19it/s]\n"
     ]
    },
    {
     "name": "stdout",
     "output_type": "stream",
     "text": [
      "ip=5, p=0.2\n"
     ]
    },
    {
     "name": "stderr",
     "output_type": "stream",
     "text": [
      "100%|██████████| 500/500 [00:08<00:00, 55.91it/s]\n"
     ]
    },
    {
     "name": "stdout",
     "output_type": "stream",
     "text": [
      "ip=6, p=0.21\n"
     ]
    },
    {
     "name": "stderr",
     "output_type": "stream",
     "text": [
      "100%|██████████| 500/500 [00:09<00:00, 52.91it/s]\n"
     ]
    },
    {
     "name": "stdout",
     "output_type": "stream",
     "text": [
      "ip=7, p=0.22\n"
     ]
    },
    {
     "name": "stderr",
     "output_type": "stream",
     "text": [
      "100%|██████████| 500/500 [00:11<00:00, 42.64it/s]\n"
     ]
    },
    {
     "name": "stdout",
     "output_type": "stream",
     "text": [
      "ip=8, p=0.23\n"
     ]
    },
    {
     "name": "stderr",
     "output_type": "stream",
     "text": [
      "100%|██████████| 500/500 [00:11<00:00, 43.26it/s]\n"
     ]
    },
    {
     "name": "stdout",
     "output_type": "stream",
     "text": [
      "ip=9, p=0.25\n"
     ]
    },
    {
     "name": "stderr",
     "output_type": "stream",
     "text": [
      "100%|██████████| 500/500 [00:11<00:00, 42.23it/s]\n"
     ]
    },
    {
     "data": {
      "text/plain": [
       "array([0.008, 0.006, 0.02 , 0.022, 0.054, 0.054, 0.08 , 0.096, 0.142,\n",
       "       0.214])"
      ]
     },
     "execution_count": 19,
     "metadata": {},
     "output_type": "execute_result"
    }
   ],
   "source": [
    "fractions_N10_3 = getFractionForPInfScan(pInfectionScan_N10_small, nExps=500, width=10, height=10)\n",
    "fractions_N10_3"
   ]
  },
  {
   "cell_type": "code",
   "execution_count": 20,
   "metadata": {},
   "outputs": [
    {
     "name": "stdout",
     "output_type": "stream",
     "text": [
      "ip=0, p=0.15\n"
     ]
    },
    {
     "name": "stderr",
     "output_type": "stream",
     "text": [
      "100%|██████████| 500/500 [00:05<00:00, 91.11it/s] \n"
     ]
    },
    {
     "name": "stdout",
     "output_type": "stream",
     "text": [
      "ip=1, p=0.16\n"
     ]
    },
    {
     "name": "stderr",
     "output_type": "stream",
     "text": [
      "100%|██████████| 500/500 [00:06<00:00, 82.40it/s] \n"
     ]
    },
    {
     "name": "stdout",
     "output_type": "stream",
     "text": [
      "ip=2, p=0.17\n"
     ]
    },
    {
     "name": "stderr",
     "output_type": "stream",
     "text": [
      "100%|██████████| 500/500 [00:06<00:00, 74.65it/s] \n"
     ]
    },
    {
     "name": "stdout",
     "output_type": "stream",
     "text": [
      "ip=3, p=0.18\n"
     ]
    },
    {
     "name": "stderr",
     "output_type": "stream",
     "text": [
      "100%|██████████| 500/500 [00:07<00:00, 64.70it/s]\n"
     ]
    },
    {
     "name": "stdout",
     "output_type": "stream",
     "text": [
      "ip=4, p=0.19\n"
     ]
    },
    {
     "name": "stderr",
     "output_type": "stream",
     "text": [
      "100%|██████████| 500/500 [00:09<00:00, 54.40it/s]\n"
     ]
    },
    {
     "name": "stdout",
     "output_type": "stream",
     "text": [
      "ip=5, p=0.2\n"
     ]
    },
    {
     "name": "stderr",
     "output_type": "stream",
     "text": [
      "100%|██████████| 500/500 [00:09<00:00, 51.72it/s]\n"
     ]
    },
    {
     "name": "stdout",
     "output_type": "stream",
     "text": [
      "ip=6, p=0.21\n"
     ]
    },
    {
     "name": "stderr",
     "output_type": "stream",
     "text": [
      "100%|██████████| 500/500 [00:10<00:00, 46.60it/s]\n"
     ]
    },
    {
     "name": "stdout",
     "output_type": "stream",
     "text": [
      "ip=7, p=0.22\n"
     ]
    },
    {
     "name": "stderr",
     "output_type": "stream",
     "text": [
      "100%|██████████| 500/500 [00:10<00:00, 45.54it/s]\n"
     ]
    },
    {
     "name": "stdout",
     "output_type": "stream",
     "text": [
      "ip=8, p=0.23\n"
     ]
    },
    {
     "name": "stderr",
     "output_type": "stream",
     "text": [
      "100%|██████████| 500/500 [00:11<00:00, 45.00it/s]\n"
     ]
    },
    {
     "name": "stdout",
     "output_type": "stream",
     "text": [
      "ip=9, p=0.25\n"
     ]
    },
    {
     "name": "stderr",
     "output_type": "stream",
     "text": [
      "100%|██████████| 500/500 [00:11<00:00, 41.95it/s]\n"
     ]
    },
    {
     "data": {
      "text/plain": [
       "array([0.002, 0.008, 0.02 , 0.036, 0.034, 0.056, 0.104, 0.124, 0.132,\n",
       "       0.226])"
      ]
     },
     "execution_count": 20,
     "metadata": {},
     "output_type": "execute_result"
    }
   ],
   "source": [
    "fractions_N10_4 = getFractionForPInfScan(pInfectionScan_N10_small, nExps=500, width=10, height=10)\n",
    "fractions_N10_4"
   ]
  },
  {
   "cell_type": "code",
   "execution_count": 21,
   "metadata": {},
   "outputs": [
    {
     "name": "stdout",
     "output_type": "stream",
     "text": [
      "ip=0, p=0.15\n"
     ]
    },
    {
     "name": "stderr",
     "output_type": "stream",
     "text": [
      "100%|██████████| 500/500 [00:05<00:00, 91.43it/s] \n"
     ]
    },
    {
     "name": "stdout",
     "output_type": "stream",
     "text": [
      "ip=1, p=0.16\n"
     ]
    },
    {
     "name": "stderr",
     "output_type": "stream",
     "text": [
      "100%|██████████| 500/500 [00:05<00:00, 89.22it/s] \n"
     ]
    },
    {
     "name": "stdout",
     "output_type": "stream",
     "text": [
      "ip=2, p=0.17\n"
     ]
    },
    {
     "name": "stderr",
     "output_type": "stream",
     "text": [
      "100%|██████████| 500/500 [00:06<00:00, 74.61it/s] \n"
     ]
    },
    {
     "name": "stdout",
     "output_type": "stream",
     "text": [
      "ip=3, p=0.18\n"
     ]
    },
    {
     "name": "stderr",
     "output_type": "stream",
     "text": [
      "100%|██████████| 500/500 [00:06<00:00, 72.65it/s] \n"
     ]
    },
    {
     "name": "stdout",
     "output_type": "stream",
     "text": [
      "ip=4, p=0.19\n"
     ]
    },
    {
     "name": "stderr",
     "output_type": "stream",
     "text": [
      "100%|██████████| 500/500 [00:06<00:00, 72.02it/s]\n"
     ]
    },
    {
     "name": "stdout",
     "output_type": "stream",
     "text": [
      "ip=5, p=0.2\n"
     ]
    },
    {
     "name": "stderr",
     "output_type": "stream",
     "text": [
      "100%|██████████| 500/500 [00:07<00:00, 63.94it/s]\n"
     ]
    },
    {
     "name": "stdout",
     "output_type": "stream",
     "text": [
      "ip=6, p=0.21\n"
     ]
    },
    {
     "name": "stderr",
     "output_type": "stream",
     "text": [
      "100%|██████████| 500/500 [00:09<00:00, 53.50it/s]\n"
     ]
    },
    {
     "name": "stdout",
     "output_type": "stream",
     "text": [
      "ip=7, p=0.22\n"
     ]
    },
    {
     "name": "stderr",
     "output_type": "stream",
     "text": [
      "100%|██████████| 500/500 [00:09<00:00, 52.94it/s]\n"
     ]
    },
    {
     "name": "stdout",
     "output_type": "stream",
     "text": [
      "ip=8, p=0.23\n"
     ]
    },
    {
     "name": "stderr",
     "output_type": "stream",
     "text": [
      "100%|██████████| 500/500 [00:10<00:00, 46.18it/s]\n"
     ]
    },
    {
     "name": "stdout",
     "output_type": "stream",
     "text": [
      "ip=9, p=0.25\n"
     ]
    },
    {
     "name": "stderr",
     "output_type": "stream",
     "text": [
      "100%|██████████| 500/500 [00:12<00:00, 40.43it/s]\n"
     ]
    },
    {
     "data": {
      "text/plain": [
       "array([0.01 , 0.008, 0.014, 0.02 , 0.022, 0.048, 0.052, 0.096, 0.108,\n",
       "       0.206])"
      ]
     },
     "execution_count": 21,
     "metadata": {},
     "output_type": "execute_result"
    }
   ],
   "source": [
    "fractions_N10_5 = getFractionForPInfScan(pInfectionScan_N10_small, nExps=500, width=10, height=10)\n",
    "fractions_N10_5"
   ]
  },
  {
   "cell_type": "code",
   "execution_count": 22,
   "metadata": {},
   "outputs": [
    {
     "name": "stdout",
     "output_type": "stream",
     "text": [
      "ip=0, p=0.15\n"
     ]
    },
    {
     "name": "stderr",
     "output_type": "stream",
     "text": [
      "100%|██████████| 500/500 [00:05<00:00, 83.64it/s] \n"
     ]
    },
    {
     "name": "stdout",
     "output_type": "stream",
     "text": [
      "ip=1, p=0.16\n"
     ]
    },
    {
     "name": "stderr",
     "output_type": "stream",
     "text": [
      "100%|██████████| 500/500 [00:05<00:00, 89.76it/s] \n"
     ]
    },
    {
     "name": "stdout",
     "output_type": "stream",
     "text": [
      "ip=2, p=0.17\n"
     ]
    },
    {
     "name": "stderr",
     "output_type": "stream",
     "text": [
      "100%|██████████| 500/500 [00:06<00:00, 74.30it/s] \n"
     ]
    },
    {
     "name": "stdout",
     "output_type": "stream",
     "text": [
      "ip=3, p=0.18\n"
     ]
    },
    {
     "name": "stderr",
     "output_type": "stream",
     "text": [
      "100%|██████████| 500/500 [00:06<00:00, 71.58it/s]\n"
     ]
    },
    {
     "name": "stdout",
     "output_type": "stream",
     "text": [
      "ip=4, p=0.19\n"
     ]
    },
    {
     "name": "stderr",
     "output_type": "stream",
     "text": [
      "100%|██████████| 500/500 [00:08<00:00, 58.78it/s]\n"
     ]
    },
    {
     "name": "stdout",
     "output_type": "stream",
     "text": [
      "ip=5, p=0.2\n"
     ]
    },
    {
     "name": "stderr",
     "output_type": "stream",
     "text": [
      "100%|██████████| 500/500 [00:08<00:00, 58.74it/s]\n"
     ]
    },
    {
     "name": "stdout",
     "output_type": "stream",
     "text": [
      "ip=6, p=0.21\n"
     ]
    },
    {
     "name": "stderr",
     "output_type": "stream",
     "text": [
      "100%|██████████| 500/500 [00:10<00:00, 48.35it/s]\n"
     ]
    },
    {
     "name": "stdout",
     "output_type": "stream",
     "text": [
      "ip=7, p=0.22\n"
     ]
    },
    {
     "name": "stderr",
     "output_type": "stream",
     "text": [
      "100%|██████████| 500/500 [00:10<00:00, 49.09it/s]\n"
     ]
    },
    {
     "name": "stdout",
     "output_type": "stream",
     "text": [
      "ip=8, p=0.23\n"
     ]
    },
    {
     "name": "stderr",
     "output_type": "stream",
     "text": [
      "100%|██████████| 500/500 [00:11<00:00, 44.26it/s]\n"
     ]
    },
    {
     "name": "stdout",
     "output_type": "stream",
     "text": [
      "ip=9, p=0.25\n"
     ]
    },
    {
     "name": "stderr",
     "output_type": "stream",
     "text": [
      "100%|██████████| 500/500 [00:11<00:00, 45.31it/s]\n"
     ]
    },
    {
     "data": {
      "text/plain": [
       "array([0.01 , 0.008, 0.01 , 0.024, 0.034, 0.06 , 0.078, 0.1  , 0.152,\n",
       "       0.198])"
      ]
     },
     "execution_count": 22,
     "metadata": {},
     "output_type": "execute_result"
    }
   ],
   "source": [
    "fractions_N10_6 = getFractionForPInfScan(pInfectionScan_N10_small, nExps=500, width=10, height=10)\n",
    "fractions_N10_6"
   ]
  },
  {
   "cell_type": "code",
   "execution_count": 23,
   "metadata": {},
   "outputs": [],
   "source": [
    "def poly3(x,a,b,c,d):\n",
    "  return a + b*x + c*x**2 + d*x**3\n",
    "\n",
    "def poly2(x,a,b,c):\n",
    "  return a + b*x + c*x**2\n",
    "\n",
    "def poly2Fit(x,a=0.75141293, b=-9.18992206, c=28.54122515):\n",
    "  return a + b*x + c*x**2\n",
    "\n",
    "def expon(x,a,b):\n",
    "  return a * np.exp(b*x)\n",
    "\n",
    "def Logistic(x,x0,L,k):\n",
    "  return L/(1+np.exp(k*(x-x0)))"
   ]
  },
  {
   "cell_type": "code",
   "execution_count": 24,
   "metadata": {},
   "outputs": [
    {
     "data": {
      "text/plain": [
       "(array([0.00733333, 0.008     , 0.015     , 0.02733333, 0.041     ,\n",
       "        0.059     , 0.08      , 0.107     , 0.13066667, 0.21433333]),\n",
       " array([0.00319722, 0.00305505, 0.00378594, 0.00573488, 0.01176152,\n",
       "        0.01087811, 0.01747379, 0.01044031, 0.01530432, 0.01298289]))"
      ]
     },
     "execution_count": 24,
     "metadata": {},
     "output_type": "execute_result"
    }
   ],
   "source": [
    "yall = np.vstack((fractions_N10_1, fractions_N10_2, fractions_N10_3,fractions_N10_4,fractions_N10_5,fractions_N10_6))\n",
    "x = pInfectionScan_N10_small\n",
    "y = yall.mean(axis=0)\n",
    "yerr = np.sqrt(yall.var(axis=0))\n",
    "y,yerr"
   ]
  },
  {
   "cell_type": "code",
   "execution_count": 25,
   "metadata": {},
   "outputs": [],
   "source": [
    "from scipy.stats import chi2\n",
    "\n",
    "def fitRoutine(f,x,y,yerr=None):\n",
    "  \n",
    "  if yerr is not None:\n",
    "    popt,pcov = curve_fit(f, x, y, sigma=yerr, absolute_sigma=True) # important to have absolute_sigma=True\n",
    "  \n",
    "  else:\n",
    "    popt,pcov = curve_fit(f, x, y) \n",
    "\n",
    "  print('\\nFitted parameters')\n",
    "  for i,ip in enumerate(popt):\n",
    "    print('i={} fitted param:\\t{:.2f}\\t+/-\\t{:.2f}'.format(i,popt[i], pcov[i,i]**0.5))\n",
    "\n",
    "  if yerr is not None: \n",
    "    chisq = (((y - f(x, *popt) ) / yerr)**2).sum()\n",
    "    red_chisq = chisq / (len(x)-len(popt)) # ndof = number of meas - n of fitted params\n",
    "    prob = 1-chi2.cdf(chisq, (len(x)-len(popt)))\n",
    "    print('\\nvalue of Chisquare            {:.3f}'.format(chisq))\n",
    "    print('value of reduced Chisquare    {:.3f}'.format(red_chisq))\n",
    "    print('P-value                       {:.3f}'.format(prob))\n",
    "  \n",
    "  return popt,pcov"
   ]
  },
  {
   "cell_type": "code",
   "execution_count": 26,
   "metadata": {},
   "outputs": [
    {
     "name": "stdout",
     "output_type": "stream",
     "text": [
      "\n",
      "Fitted parameters\n",
      "i=0 fitted param:\t0.47\t+/-\t0.09\n",
      "i=1 fitted param:\t-6.12\t+/-\t1.01\n",
      "i=2 fitted param:\t20.43\t+/-\t2.67\n",
      "\n",
      "value of Chisquare            0.526\n",
      "value of reduced Chisquare    0.075\n",
      "P-value                       0.999\n",
      "\n",
      "Fitted parameters\n",
      "i=0 fitted param:\t0.43\t+/-\t0.65\n",
      "i=1 fitted param:\t-5.59\t+/-\t10.43\n",
      "i=2 fitted param:\t17.59\t+/-\t55.09\n",
      "i=3 fitted param:\t4.93\t+/-\t95.57\n",
      "\n",
      "value of Chisquare            0.523\n",
      "value of reduced Chisquare    0.087\n",
      "P-value                       0.998\n",
      "\n",
      "Fitted parameters\n",
      "i=0 fitted param:\t0.00\t+/-\t0.00\n",
      "i=1 fitted param:\t31.72\t+/-\t1.50\n",
      "\n",
      "value of Chisquare            11.418\n",
      "value of reduced Chisquare    1.427\n",
      "P-value                       0.179\n",
      "\n",
      "Fitted parameters\n",
      "i=0 fitted param:\t0.24\t+/-\t0.01\n",
      "i=1 fitted param:\t0.32\t+/-\t0.07\n",
      "i=2 fitted param:\t-45.34\t+/-\t4.95\n",
      "\n",
      "value of Chisquare            1.834\n",
      "value of reduced Chisquare    0.262\n",
      "P-value                       0.968\n"
     ]
    }
   ],
   "source": [
    "popt_2,pcov_2 = fitRoutine(poly2,x,y,yerr)\n",
    "popt_3,pcov_3 = fitRoutine(poly3,x,y,yerr)\n",
    "popt_exp,pcov_exp = fitRoutine(expon,x,y,yerr)\n",
    "popt_log,pcov_log = fitRoutine(Logistic,x,y,yerr)"
   ]
  },
  {
   "cell_type": "code",
   "execution_count": 27,
   "metadata": {},
   "outputs": [
    {
     "data": {
      "image/png": "[encoded data removed]",
      "text/plain": [
       "<Figure size 360x360 with 1 Axes>"
      ]
     },
     "metadata": {
      "needs_background": "light"
     },
     "output_type": "display_data"
    }
   ],
   "source": [
    "bigx = np.linspace(0.15, 0.25, 100)\n",
    "\n",
    "fig,ax = plt.subplots(1,1,figsize=(5, 5))\n",
    "\n",
    "ax.errorbar(x, y, yerr, fmt=\"none\")\n",
    "\n",
    "ax.plot(bigx,poly2(bigx,*popt_2),label='poly2 with scipy', color='red')\n",
    "\n",
    "ax.plot(bigx,poly3(bigx,*popt_3), label='poly3 with scipy', color='orange')\n",
    "\n",
    "ax.plot(bigx,Logistic(bigx,*popt_log), label='Logistic with scipy', color='blue')\n",
    "\n",
    "ax.plot(bigx,expon(bigx,*popt_exp), label='Exponential with scipy', color='black')\n",
    "\n",
    "ax.legend(loc='upper left', frameon=True)\n",
    "\n",
    "ax.set_xlabel('Value of $p_{Inf}$')\n",
    "ax.set_ylabel('Fraction of experiments')\n",
    "ax.set_title('')\n",
    "plt.show()"
   ]
  },
  {
   "cell_type": "code",
   "execution_count": 28,
   "metadata": {},
   "outputs": [],
   "source": [
    "def poly2_inv(y,a,b,c):\n",
    "  return (-b + np.sqrt(b**2 - 4*c*(a-y)) ) / (2. * c)"
   ]
  },
  {
   "cell_type": "code",
   "execution_count": 29,
   "metadata": {},
   "outputs": [
    {
     "name": "stdout",
     "output_type": "stream",
     "text": [
      "Extracted value of p*=0.196\n"
     ]
    }
   ],
   "source": [
    "pstar=poly2_inv(0.05,*popt_2)\n",
    "print('Extracted value of p*={:.3f}'.format(pstar)) "
   ]
  },
  {
   "cell_type": "markdown",
   "metadata": {},
   "source": [
    "#### Exercise 2 Transmission to Country B, as a function of N\n",
    "Repeat exercise 1 for different values of NxN. \n",
    "\n",
    "Scan e.g. N=5, N=10, N=20 (do not take N too high, otherwise simulation will take forever)\n",
    "\n",
    "How does p* depend on N ?\n",
    "\n",
    "Suggestion: use a similar range as in the previous exercise. \n",
    "Start with fewer experiments, to get an idea of the trend. Then run more simulations."
   ]
  },
  {
   "cell_type": "code",
   "execution_count": 30,
   "metadata": {},
   "outputs": [
    {
     "name": "stdout",
     "output_type": "stream",
     "text": [
      "ip=0, p=0.15\n"
     ]
    },
    {
     "name": "stderr",
     "output_type": "stream",
     "text": [
      "100%|██████████| 500/500 [00:05<00:00, 86.44it/s] \n"
     ]
    },
    {
     "name": "stdout",
     "output_type": "stream",
     "text": [
      "ip=1, p=0.16\n"
     ]
    },
    {
     "name": "stderr",
     "output_type": "stream",
     "text": [
      "100%|██████████| 500/500 [00:05<00:00, 90.07it/s] \n"
     ]
    },
    {
     "name": "stdout",
     "output_type": "stream",
     "text": [
      "ip=2, p=0.17\n"
     ]
    },
    {
     "name": "stderr",
     "output_type": "stream",
     "text": [
      "100%|██████████| 500/500 [00:07<00:00, 65.57it/s]\n"
     ]
    },
    {
     "name": "stdout",
     "output_type": "stream",
     "text": [
      "ip=3, p=0.18\n"
     ]
    },
    {
     "name": "stderr",
     "output_type": "stream",
     "text": [
      "100%|██████████| 500/500 [00:07<00:00, 66.87it/s]\n"
     ]
    },
    {
     "name": "stdout",
     "output_type": "stream",
     "text": [
      "ip=4, p=0.19\n"
     ]
    },
    {
     "name": "stderr",
     "output_type": "stream",
     "text": [
      "100%|██████████| 500/500 [00:08<00:00, 58.61it/s] \n"
     ]
    },
    {
     "name": "stdout",
     "output_type": "stream",
     "text": [
      "ip=5, p=0.2\n"
     ]
    },
    {
     "name": "stderr",
     "output_type": "stream",
     "text": [
      "100%|██████████| 500/500 [00:10<00:00, 47.03it/s]\n"
     ]
    },
    {
     "name": "stdout",
     "output_type": "stream",
     "text": [
      "ip=6, p=0.21\n"
     ]
    },
    {
     "name": "stderr",
     "output_type": "stream",
     "text": [
      "100%|██████████| 500/500 [00:09<00:00, 50.48it/s]\n"
     ]
    },
    {
     "name": "stdout",
     "output_type": "stream",
     "text": [
      "ip=7, p=0.22\n"
     ]
    },
    {
     "name": "stderr",
     "output_type": "stream",
     "text": [
      "100%|██████████| 500/500 [00:09<00:00, 51.91it/s]\n"
     ]
    },
    {
     "name": "stdout",
     "output_type": "stream",
     "text": [
      "ip=8, p=0.23\n"
     ]
    },
    {
     "name": "stderr",
     "output_type": "stream",
     "text": [
      "100%|██████████| 500/500 [00:10<00:00, 45.85it/s]\n"
     ]
    },
    {
     "name": "stdout",
     "output_type": "stream",
     "text": [
      "ip=9, p=0.25\n"
     ]
    },
    {
     "name": "stderr",
     "output_type": "stream",
     "text": [
      "100%|██████████| 500/500 [00:12<00:00, 41.63it/s]\n"
     ]
    },
    {
     "data": {
      "text/plain": [
       "array([0.004, 0.012, 0.014, 0.02 , 0.036, 0.062, 0.08 , 0.084, 0.13 ,\n",
       "       0.212])"
      ]
     },
     "execution_count": 30,
     "metadata": {},
     "output_type": "execute_result"
    }
   ],
   "source": [
    "fractions_N10 = getFractionForPInfScan(pInfectionScan_N10_small, nExps=500, width=10, height=10)\n",
    "fractions_N10"
   ]
  },
  {
   "cell_type": "code",
   "execution_count": 31,
   "metadata": {},
   "outputs": [
    {
     "name": "stdout",
     "output_type": "stream",
     "text": [
      "ip=0, p=0.15\n"
     ]
    },
    {
     "name": "stderr",
     "output_type": "stream",
     "text": [
      "100%|██████████| 500/500 [00:12<00:00, 41.15it/s]\n"
     ]
    },
    {
     "name": "stdout",
     "output_type": "stream",
     "text": [
      "ip=1, p=0.16\n"
     ]
    },
    {
     "name": "stderr",
     "output_type": "stream",
     "text": [
      "100%|██████████| 500/500 [00:14<00:00, 34.19it/s]\n"
     ]
    },
    {
     "name": "stdout",
     "output_type": "stream",
     "text": [
      "ip=2, p=0.17\n"
     ]
    },
    {
     "name": "stderr",
     "output_type": "stream",
     "text": [
      "100%|██████████| 500/500 [00:16<00:00, 29.61it/s]\n"
     ]
    },
    {
     "name": "stdout",
     "output_type": "stream",
     "text": [
      "ip=3, p=0.18\n"
     ]
    },
    {
     "name": "stderr",
     "output_type": "stream",
     "text": [
      "100%|██████████| 500/500 [00:22<00:00, 22.08it/s]\n"
     ]
    },
    {
     "name": "stdout",
     "output_type": "stream",
     "text": [
      "ip=4, p=0.19\n"
     ]
    },
    {
     "name": "stderr",
     "output_type": "stream",
     "text": [
      "100%|██████████| 500/500 [00:19<00:00, 25.20it/s]\n"
     ]
    },
    {
     "name": "stdout",
     "output_type": "stream",
     "text": [
      "ip=5, p=0.2\n"
     ]
    },
    {
     "name": "stderr",
     "output_type": "stream",
     "text": [
      "100%|██████████| 500/500 [00:29<00:00, 16.79it/s]\n"
     ]
    },
    {
     "name": "stdout",
     "output_type": "stream",
     "text": [
      "ip=6, p=0.21\n"
     ]
    },
    {
     "name": "stderr",
     "output_type": "stream",
     "text": [
      "100%|██████████| 500/500 [00:31<00:00, 15.72it/s]\n"
     ]
    },
    {
     "name": "stdout",
     "output_type": "stream",
     "text": [
      "ip=7, p=0.22\n"
     ]
    },
    {
     "name": "stderr",
     "output_type": "stream",
     "text": [
      "100%|██████████| 500/500 [00:32<00:00, 15.31it/s]\n"
     ]
    },
    {
     "name": "stdout",
     "output_type": "stream",
     "text": [
      "ip=8, p=0.23\n"
     ]
    },
    {
     "name": "stderr",
     "output_type": "stream",
     "text": [
      "100%|██████████| 500/500 [00:36<00:00, 13.54it/s]\n"
     ]
    },
    {
     "name": "stdout",
     "output_type": "stream",
     "text": [
      "ip=9, p=0.25\n"
     ]
    },
    {
     "name": "stderr",
     "output_type": "stream",
     "text": [
      "100%|██████████| 500/500 [00:48<00:00, 10.32it/s]\n"
     ]
    },
    {
     "data": {
      "text/plain": [
       "array([0.   , 0.   , 0.006, 0.018, 0.008, 0.018, 0.062, 0.048, 0.086,\n",
       "       0.184])"
      ]
     },
     "execution_count": 31,
     "metadata": {},
     "output_type": "execute_result"
    }
   ],
   "source": [
    "fractions_N20 = getFractionForPInfScan(pInfectionScan_N10_small, nExps=500, width=15, height=15)\n",
    "fractions_N20"
   ]
  },
  {
   "cell_type": "code",
   "execution_count": 32,
   "metadata": {},
   "outputs": [
    {
     "name": "stdout",
     "output_type": "stream",
     "text": [
      "ip=0, p=0.15\n"
     ]
    },
    {
     "name": "stderr",
     "output_type": "stream",
     "text": [
      "100%|██████████| 500/500 [00:01<00:00, 371.07it/s]\n"
     ]
    },
    {
     "name": "stdout",
     "output_type": "stream",
     "text": [
      "ip=1, p=0.16\n"
     ]
    },
    {
     "name": "stderr",
     "output_type": "stream",
     "text": [
      "100%|██████████| 500/500 [00:01<00:00, 381.92it/s]\n"
     ]
    },
    {
     "name": "stdout",
     "output_type": "stream",
     "text": [
      "ip=2, p=0.17\n"
     ]
    },
    {
     "name": "stderr",
     "output_type": "stream",
     "text": [
      "100%|██████████| 500/500 [00:01<00:00, 379.30it/s]\n"
     ]
    },
    {
     "name": "stdout",
     "output_type": "stream",
     "text": [
      "ip=3, p=0.18\n"
     ]
    },
    {
     "name": "stderr",
     "output_type": "stream",
     "text": [
      "100%|██████████| 500/500 [00:01<00:00, 354.87it/s]\n"
     ]
    },
    {
     "name": "stdout",
     "output_type": "stream",
     "text": [
      "ip=4, p=0.19\n"
     ]
    },
    {
     "name": "stderr",
     "output_type": "stream",
     "text": [
      "100%|██████████| 500/500 [00:01<00:00, 331.85it/s]\n"
     ]
    },
    {
     "name": "stdout",
     "output_type": "stream",
     "text": [
      "ip=5, p=0.2\n"
     ]
    },
    {
     "name": "stderr",
     "output_type": "stream",
     "text": [
      "100%|██████████| 500/500 [00:01<00:00, 354.43it/s]\n"
     ]
    },
    {
     "name": "stdout",
     "output_type": "stream",
     "text": [
      "ip=6, p=0.21\n"
     ]
    },
    {
     "name": "stderr",
     "output_type": "stream",
     "text": [
      "100%|██████████| 500/500 [00:01<00:00, 322.55it/s]\n"
     ]
    },
    {
     "name": "stdout",
     "output_type": "stream",
     "text": [
      "ip=7, p=0.22\n"
     ]
    },
    {
     "name": "stderr",
     "output_type": "stream",
     "text": [
      "100%|██████████| 500/500 [00:01<00:00, 330.58it/s]\n"
     ]
    },
    {
     "name": "stdout",
     "output_type": "stream",
     "text": [
      "ip=8, p=0.23\n"
     ]
    },
    {
     "name": "stderr",
     "output_type": "stream",
     "text": [
      "100%|██████████| 500/500 [00:01<00:00, 314.67it/s]\n"
     ]
    },
    {
     "name": "stdout",
     "output_type": "stream",
     "text": [
      "ip=9, p=0.25\n"
     ]
    },
    {
     "name": "stderr",
     "output_type": "stream",
     "text": [
      "100%|██████████| 500/500 [00:01<00:00, 299.94it/s]\n"
     ]
    },
    {
     "data": {
      "text/plain": [
       "array([0.042, 0.058, 0.068, 0.098, 0.116, 0.144, 0.17 , 0.224, 0.212,\n",
       "       0.312])"
      ]
     },
     "execution_count": 32,
     "metadata": {},
     "output_type": "execute_result"
    }
   ],
   "source": [
    "fractions_N5 = getFractionForPInfScan(pInfectionScan_N10_small, nExps=500, width=5, height=5)\n",
    "fractions_N5"
   ]
  },
  {
   "cell_type": "code",
   "execution_count": 33,
   "metadata": {},
   "outputs": [
    {
     "name": "stdout",
     "output_type": "stream",
     "text": [
      "\n",
      "Fitted parameters\n",
      "i=0 fitted param:\t0.53\t+/-\t0.11\n",
      "i=1 fitted param:\t-6.79\t+/-\t1.15\n",
      "i=2 fitted param:\t21.94\t+/-\t2.90\n",
      "\n",
      "Fitted parameters\n",
      "i=0 fitted param:\t0.75\t+/-\t0.19\n",
      "i=1 fitted param:\t-8.88\t+/-\t1.99\n",
      "i=2 fitted param:\t26.31\t+/-\t5.00\n",
      "\n",
      "Fitted parameters\n",
      "i=0 fitted param:\t0.10\t+/-\t0.17\n",
      "i=1 fitted param:\t-2.23\t+/-\t1.74\n",
      "i=2 fitted param:\t12.26\t+/-\t4.37\n",
      "For N=5,  Extracted value of p*=0.156\n",
      "For N=10, Extracted value of p*=0.199\n",
      "For N=20, Extracted value of p*=0.213\n"
     ]
    }
   ],
   "source": [
    "x=pInfectionScan_N10_small\n",
    "\n",
    "popt_N10,pcov_N10 = fitRoutine(poly2,x,fractions_N10)\n",
    "popt_N20,pcov_N20 = fitRoutine(poly2,x,fractions_N20)\n",
    "popt_N5,pcov_N5   = fitRoutine(poly2,x,fractions_N5)\n",
    "\n",
    "pstar_N10=poly2_inv(0.05,*popt_N10)\n",
    "pstar_N20=poly2_inv(0.05,*popt_N20)\n",
    "pstar_N5=poly2_inv(0.05,*popt_N5)\n",
    "\n",
    "print('For N=5,  Extracted value of p*={:.3f}'.format(pstar_N5)) \n",
    "print('For N=10, Extracted value of p*={:.3f}'.format(pstar_N10)) \n",
    "print('For N=20, Extracted value of p*={:.3f}'.format(pstar_N20)) \n"
   ]
  },
  {
   "cell_type": "code",
   "execution_count": 34,
   "metadata": {},
   "outputs": [
    {
     "data": {
      "image/png": "[encoded data removed]",
      "text/plain": [
       "<Figure size 360x360 with 1 Axes>"
      ]
     },
     "metadata": {
      "needs_background": "light"
     },
     "output_type": "display_data"
    }
   ],
   "source": [
    "bigx = np.linspace(0.15, 0.25, 100)\n",
    "\n",
    "fig,ax = plt.subplots(1,1,figsize=(5, 5))\n",
    "\n",
    "ax.plot(x, fractions_N5, color='blue')\n",
    "ax.plot(x, fractions_N10, color='red')\n",
    "ax.plot(x, fractions_N20, color='orange')\n",
    "\n",
    "ax.plot(bigx,poly2(bigx,*popt_N5),label='fit, N=5', color='blue')\n",
    "ax.plot(bigx,poly2(bigx,*popt_N10),label='fit, N=10', color='red')\n",
    "ax.plot(bigx,poly2(bigx,*popt_N20),label='fit, N=20', color='orange')\n",
    "\n",
    "ax.legend(loc='upper left', frameon=True)\n",
    "\n",
    "ax.set_xlabel('Value of $p_{Inf}$')\n",
    "ax.set_ylabel('Fraction of experiments')\n",
    "ax.set_title('')\n",
    "plt.show()"
   ]
  },
  {
   "cell_type": "markdown",
   "metadata": {},
   "source": [
    "Result: In order to contain the pandemic in a smaller country, one needs a less infective disease"
   ]
  },
  {
   "cell_type": "markdown",
   "metadata": {},
   "source": [
    "#### Exercise 3 Quarantine versus free travel\n",
    "So far we have considered cases where the individuals cannot move from their fixed position. What happens when the people are allowed to move?\n",
    "\n",
    "Let us concentrate on country A; fix the various parameters of the simulation to some choice and compare the cases when\n",
    "`_maxTravelDistance=0` = 0 and `_maxTravelDistance=M`, with M some value of your choice.\n",
    "\n",
    "In particular:\n",
    "\n",
    "1. How does the number of total infections varies with time in the two cases? Plot the curve.  \n",
    "2. For the two cases separately, repeat the simulation a few times, determine an average curve and its variance \n",
    "2. Comment on the shapes of the average curves in the two cases. "
   ]
  },
  {
   "cell_type": "code",
   "execution_count": 35,
   "metadata": {},
   "outputs": [
    {
     "data": {
      "image/png": "[encoded data removed]",
      "text/plain": [
       "<Figure size 360x360 with 1 Axes>"
      ]
     },
     "metadata": {
      "needs_background": "light"
     },
     "output_type": "display_data"
    }
   ],
   "source": [
    "nDays = 100\n",
    "\n",
    "nation = Nation(width=10, height=10, I0=1, maxTravelDistance=0)\n",
    "nation.createIndividuals()\n",
    "nation.setInitialInfected()\n",
    "nation.setDisease(pInfection=0.50,pRecovery=0.25,pDeath=0.02)\n",
    "nation.evolve(nDays)\n",
    "\n",
    "Infected_mtd0,times = nation.plotInfectedEvolution(doFrac=False,doRet=True)"
   ]
  },
  {
   "cell_type": "code",
   "execution_count": 36,
   "metadata": {},
   "outputs": [
    {
     "data": {
      "image/png": "[encoded data removed]",
      "text/plain": [
       "<Figure size 360x360 with 1 Axes>"
      ]
     },
     "metadata": {
      "needs_background": "light"
     },
     "output_type": "display_data"
    }
   ],
   "source": [
    "nDays = 100\n",
    "\n",
    "nation = Nation(width=10, height=10, I0=1, maxTravelDistance=5)\n",
    "nation.createIndividuals()\n",
    "nation.setInitialInfected()\n",
    "nation.setDisease(pInfection=0.50,pRecovery=0.25,pDeath=0.02)\n",
    "nation.evolve(nDays)\n",
    "\n",
    "Infected_mtd5,times = nation.plotInfectedEvolution(doFrac=False,doRet=True)"
   ]
  },
  {
   "cell_type": "code",
   "execution_count": 37,
   "metadata": {},
   "outputs": [],
   "source": [
    "def getAvgCurves(maxTravelDistance=0):\n",
    "  nExp = 50\n",
    "  nDays = 100\n",
    "  listInfected = []\n",
    "\n",
    "  for iExp in tqdm.tqdm((np.arange(nExp))):\n",
    "\n",
    "    nation = Nation(width=10, height=10, I0=1, maxTravelDistance=maxTravelDistance)\n",
    "    nation.createIndividuals()\n",
    "    nation.setInitialInfected()\n",
    "    nation.setDisease(pInfection=0.50,pRecovery=0.25,pDeath=0.02)\n",
    "    nation.evolve(nDays-1)\n",
    "\n",
    "    Infected,times = nation.plotInfectedEvolution(doFrac=False,doRet=True,doShow=False)\n",
    "    listInfected.append(Infected)\n",
    "\n",
    "  arInfecteds = np.vstack((listInfected[:]))\n",
    "  AvgInfecteds = arInfecteds.mean(axis=0)\n",
    "  StdDevInfecteds = np.sqrt(arInfecteds.var(axis=0))\n",
    "\n",
    "  #fit = np.polyfit(times,AvgInfecteds,9)\n",
    "  #fit_fn = np.poly1d(fit)\n",
    "\n",
    "  fix,ax = plt.subplots(1,1,figsize=(5,5))\n",
    "  for iInfected in listInfected:\n",
    "    ax.plot(times,iInfected, '-', linewidth='0.2')\n",
    "  ax.plot(times,AvgInfecteds,                       color='magenta',label='$\\mu$')\n",
    "  ax.plot(times,AvgInfecteds+StdDevInfecteds, color='r', label='$\\mu+\\sigma$')\n",
    "  ax.plot(times,AvgInfecteds-StdDevInfecteds, color='r', label='$\\mu-\\sigma$')\n",
    "  #ax.plot(times,fit_fn(times),                 color='b',label='fit')\n",
    "\n",
    "  return times,AvgInfecteds,StdDevInfecteds"
   ]
  },
  {
   "cell_type": "code",
   "execution_count": 38,
   "metadata": {},
   "outputs": [
    {
     "name": "stderr",
     "output_type": "stream",
     "text": [
      "100%|██████████| 50/50 [01:03<00:00,  1.27s/it]\n"
     ]
    },
    {
     "data": {
      "image/png": "[encoded data removed]",
      "text/plain": [
       "<Figure size 360x360 with 1 Axes>"
      ]
     },
     "metadata": {
      "needs_background": "light"
     },
     "output_type": "display_data"
    }
   ],
   "source": [
    "times,AvgInfecteds_0,StdDevInfecteds_0=getAvgCurves(maxTravelDistance=0)"
   ]
  },
  {
   "cell_type": "code",
   "execution_count": 39,
   "metadata": {},
   "outputs": [
    {
     "name": "stderr",
     "output_type": "stream",
     "text": [
      "100%|██████████| 50/50 [01:35<00:00,  1.92s/it]\n"
     ]
    },
    {
     "data": {
      "image/png": "[encoded data removed]",
      "text/plain": [
       "<Figure size 360x360 with 1 Axes>"
      ]
     },
     "metadata": {
      "needs_background": "light"
     },
     "output_type": "display_data"
    }
   ],
   "source": [
    "times,AvgInfecteds_5,StdDevInfecteds_5=getAvgCurves(maxTravelDistance=5)"
   ]
  },
  {
   "cell_type": "code",
   "execution_count": 40,
   "metadata": {},
   "outputs": [
    {
     "data": {
      "text/plain": [
       "<matplotlib.legend.Legend at 0x7f96aa9c5a90>"
      ]
     },
     "execution_count": 40,
     "metadata": {},
     "output_type": "execute_result"
    },
    {
     "data": {
      "image/png": "[encoded data removed]",
      "text/plain": [
       "<Figure size 360x360 with 1 Axes>"
      ]
     },
     "metadata": {
      "needs_background": "light"
     },
     "output_type": "display_data"
    }
   ],
   "source": [
    "fix,ax = plt.subplots(1,1,figsize=(5,5))\n",
    "ax.plot(times,AvgInfecteds_5+StdDevInfecteds_5, '--',color='orange',   )\n",
    "ax.plot(times,AvgInfecteds_5-StdDevInfecteds_5, '--',color='orange', )\n",
    "\n",
    "ax.plot(times,AvgInfecteds_0+StdDevInfecteds_0, '--', color='blue')\n",
    "ax.plot(times,AvgInfecteds_0-StdDevInfecteds_0, '--', color='blue')\n",
    "\n",
    "ax.plot(times,AvgInfecteds_5, color='orange',label='$\\mu\\pm\\sigma$, maxTravelDist=5')\n",
    "ax.plot(times,AvgInfecteds_0, color='blue',label='$\\mu\\pm\\sigma$, maxTravelDist=0')\n",
    "\n",
    "\n",
    "ax.set_xlabel('Day')\n",
    "ax.set_ylabel('$I(t)$')\n",
    "\n",
    "\n",
    "ax.legend(loc='upper right')"
   ]
  },
  {
   "cell_type": "markdown",
   "metadata": {},
   "source": [
    "Answer: when the position of the individuals in the grid is fixed, it very much resembles a country with quarantine, i.e. we observe that the curve is flattened, compared to the case where the individuals can move freely in the country"
   ]
  },
  {
   "cell_type": "markdown",
   "metadata": {},
   "source": [
    "#### Bonus exercise: analytic versus numerical simulation\n",
    "\n",
    "For the case of restricted travel (maxTravelDistance=0) and in the simplified situation where where pDeath=0, pRecovery=0,: compare the curves obtained by the simulation and the analytic solution of the differential equation obtained in the beginning: do they match? "
   ]
  },
  {
   "cell_type": "code",
   "execution_count": 41,
   "metadata": {},
   "outputs": [
    {
     "name": "stderr",
     "output_type": "stream",
     "text": [
      "100%|██████████| 100/100 [04:37<00:00,  2.78s/it]\n"
     ]
    }
   ],
   "source": [
    "nDays = 100\n",
    "nExp=100\n",
    "\n",
    "n1_Inf = []\n",
    "n2_Inf = []\n",
    "\n",
    "for iExp in tqdm.tqdm(range(nExp)):\n",
    "  nation1 = Nation(width=10, height=10, I0=1, maxTravelDistance=0)\n",
    "  nation1.createIndividuals()\n",
    "  nation1.setInitialInfected()\n",
    "  nation1.setDisease(pInfection=0.05,pRecovery=0.,pDeath=0.)\n",
    "  nation1.evolve(nDays)\n",
    "  Infected,times = nation1.plotInfectedEvolution(doFrac=False,doRet=True,doShow=False)\n",
    "  n1_Inf.append(Infected)\n",
    "\n",
    "  nation2 = Nation(width=10, height=10, I0=1, maxTravelDistance=0)\n",
    "  nation2.createIndividuals()\n",
    "  nation2.setInitialInfected()\n",
    "  nation2.setDisease(pInfection=1.0,pRecovery=0.,pDeath=0.)\n",
    "  nation2.evolve(nDays)\n",
    "  Infected,times = nation2.plotInfectedEvolution(doFrac=False,doRet=True,doShow=False)\n",
    "  n2_Inf.append(Infected)"
   ]
  },
  {
   "cell_type": "code",
   "execution_count": 42,
   "metadata": {},
   "outputs": [],
   "source": [
    "ar_n1_Inf = np.vstack((n1_Inf[:]))\n",
    "avg_n1_Inf = ar_n1_Inf.mean(axis=0)\n",
    "var_n1_Inf = ar_n1_Inf.var(axis=0)\n",
    "\n",
    "ar_n2_Inf = np.vstack((n2_Inf[:]))\n",
    "avg_n2_Inf = ar_n2_Inf.mean(axis=0)\n",
    "var_n2_Inf = ar_n2_Inf.var(axis=0)"
   ]
  },
  {
   "cell_type": "code",
   "execution_count": 43,
   "metadata": {},
   "outputs": [
    {
     "data": {
      "image/png": "[encoded data removed]",
      "text/plain": [
       "<Figure size 360x360 with 1 Axes>"
      ]
     },
     "metadata": {
      "needs_background": "light"
     },
     "output_type": "display_data"
    }
   ],
   "source": [
    "fix,ax = plt.subplots(1,1,figsize=(5,5))\n",
    "ax.plot(times,avg_n1_Inf,                     color='orange',label='avg, p=0.05')\n",
    "ax.plot(times,avg_n1_Inf+np.sqrt(var_n1_Inf), color='orange',   )\n",
    "ax.plot(times,avg_n1_Inf-np.sqrt(var_n1_Inf), color='orange', )\n",
    "\n",
    "ax.plot(times,np.array([I(t,N2=100,I0=1,k=1.1,p=0.05) for t in times]), label='Analytic p=0.05', color='r')\n",
    "\n",
    "\n",
    "ax.plot(times,avg_n2_Inf,                     color='magenta',label='avg, p=1.0')\n",
    "ax.plot(times,avg_n2_Inf+np.sqrt(var_n2_Inf), color='magenta')\n",
    "ax.plot(times,avg_n2_Inf-np.sqrt(var_n2_Inf), color='magenta')\n",
    "\n",
    "ax.plot(times,np.array([I(t,N2=100,I0=1,k=0.5,p=1.0) for t in times]), label='Analytic p=1.0', color='violet')\n",
    "\n",
    "ax.set_xlabel('Day')\n",
    "ax.set_ylabel('$I(t)$')\n",
    "\n",
    "\n",
    "ax.legend(loc='upper right')\n",
    "\n",
    "\n",
    "#ax.legend(loc='lower right', frameon=True) \n",
    "plt.show()"
   ]
  },
  {
   "cell_type": "code",
   "execution_count": null,
   "metadata": {},
   "outputs": [],
   "source": []
  },
  {
   "cell_type": "code",
   "execution_count": null,
   "metadata": {},
   "outputs": [],
   "source": []
  },
  {
   "cell_type": "markdown",
   "metadata": {},
   "source": [
    "### Statistics, some useful examples\n",
    "Example usage of multinomial distribution:\n",
    "I do 10000 experiments where I throw the three-faced dice once; each face has a different probability"
   ]
  },
  {
   "cell_type": "code",
   "execution_count": 44,
   "metadata": {},
   "outputs": [
    {
     "name": "stdout",
     "output_type": "stream",
     "text": [
      "0.1012\n",
      "0.5078\n",
      "0.391\n",
      "[[0 1 0]]\n",
      "[0 1 0]\n",
      "0 1 0\n"
     ]
    }
   ],
   "source": [
    "results = rg.multinomial(1, [0.1,0.5,1-0.1-0.5], size=10000)\n",
    "print(results[:,0].mean())\n",
    "print(results[:,1].mean())\n",
    "print(results[:,2].mean())\n",
    "a = rg.multinomial(1, [0.1,0.5,1-0.1-0.5], size=1)\n",
    "print(a)\n",
    "print(a.reshape(-1))\n",
    "b,c,d=a.reshape(-1)\n",
    "print(b,c,d)"
   ]
  },
  {
   "cell_type": "markdown",
   "metadata": {},
   "source": [
    "Average Number of NN?"
   ]
  },
  {
   "cell_type": "code",
   "execution_count": 45,
   "metadata": {},
   "outputs": [
    {
     "name": "stdout",
     "output_type": "stream",
     "text": [
      "3.5061728395061733 3.9596 3.99839936\n"
     ]
    }
   ],
   "source": [
    "def avgNumberNNs(width=10.,height=10.):\n",
    "  '''\n",
    "  return the average number of Nearest Neighbours in this setting\n",
    "  '''\n",
    "  N=width*height\n",
    "  weights   = np.array([(N-2)**2, (N-2)*4, 4]) / N**2\n",
    "  assert weights.sum()==1\n",
    "  number_NNs= np.array([4,3,1])\n",
    "  return (weights * number_NNs).sum()\n",
    "print(avgNumberNNs(3,3),avgNumberNNs(10,10),avgNumberNNs(50,50))"
   ]
  },
  {
   "cell_type": "code",
   "execution_count": null,
   "metadata": {},
   "outputs": [],
   "source": []
  }
 ],
 "metadata": {
  "kernelspec": {
   "display_name": "Python 3",
   "language": "python",
   "name": "python3"
  },
  "language_info": {
   "codemirror_mode": {
    "name": "ipython",
    "version": 3
   },
   "file_extension": ".py",
   "mimetype": "text/x-python",
   "name": "python",
   "nbconvert_exporter": "python",
   "pygments_lexer": "ipython3",
   "version": "3.8.3"
  }
 },
 "nbformat": 4,
 "nbformat_minor": 4
}
